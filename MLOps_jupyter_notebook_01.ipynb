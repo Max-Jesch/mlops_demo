{
    "cells": [
        {
            "cell_type": "markdown",
            "metadata": {},
            "source": " # 1. Setup Watson Machine Learning Connection"
        },
        {
            "cell_type": "code",
            "execution_count": 4,
            "metadata": {},
            "outputs": [],
            "source": "PROJECT_ID = 'find me in the Watson Studio UI'\nAPI_KEY = 'Create me in the IBM Cloud UI'\nLOCATION = 'https://us-south.ml.cloud.ibm.com'"
        },
        {
            "cell_type": "code",
            "execution_count": 5,
            "metadata": {},
            "outputs": [],
            "source": "# The code was removed by Watson Studio for sharing."
        },
        {
            "cell_type": "code",
            "execution_count": 31,
            "metadata": {},
            "outputs": [
                {
                    "data": {
                        "text/plain": "'SUCCESS'"
                    },
                    "execution_count": 31,
                    "metadata": {},
                    "output_type": "execute_result"
                }
            ],
            "source": "from ibm_watson_machine_learning import APIClient\n\nwml_credentials = {\n    \"apikey\": API_KEY,\n    \"url\": LOCATION\n}\n\nwml_client = APIClient(wml_credentials)\n\nwml_client.set.default_space('d15f4a9e-e1f5-4bc2-ae89-6606bd2b62c8') \n"
        },
        {
            "cell_type": "code",
            "execution_count": 7,
            "metadata": {},
            "outputs": [
                {
                    "data": {
                        "text/plain": "'SUCCESS'"
                    },
                    "execution_count": 7,
                    "metadata": {},
                    "output_type": "execute_result"
                }
            ],
            "source": "wml_client.set.default_project(PROJECT_ID)"
        },
        {
            "cell_type": "markdown",
            "metadata": {},
            "source": "# 2. Setting up DB2 Connection"
        },
        {
            "cell_type": "code",
            "execution_count": 8,
            "metadata": {},
            "outputs": [],
            "source": "import pandas as pd\nimport tensorflow as tf\nimport keras\n"
        },
        {
            "cell_type": "code",
            "execution_count": null,
            "metadata": {},
            "outputs": [],
            "source": "# 1. create a DB2 instance + upload your data\n# 2. Create a \"connection\" in Watson Studio through the UI\n# 3. Use the \"insert to code\" feature in this notebook"
        },
        {
            "cell_type": "code",
            "execution_count": 10,
            "metadata": {},
            "outputs": [
                {
                    "name": "stderr",
                    "output_type": "stream",
                    "text": "/opt/conda/envs/Python-3.10/lib/python3.10/site-packages/pandas/io/sql.py:761: UserWarning: pandas only support SQLAlchemy connectable(engine/connection) ordatabase string URI or sqlite3 DBAPI2 connectionother DBAPI2 objects are not tested, please consider using SQLAlchemy\n  warnings.warn(\n"
                },
                {
                    "data": {
                        "text/html": "<div>\n<style scoped>\n    .dataframe tbody tr th:only-of-type {\n        vertical-align: middle;\n    }\n\n    .dataframe tbody tr th {\n        vertical-align: top;\n    }\n\n    .dataframe thead th {\n        text-align: right;\n    }\n</style>\n<table border=\"1\" class=\"dataframe\">\n  <thead>\n    <tr style=\"text-align: right;\">\n      <th></th>\n      <th>CLIENTNUM</th>\n      <th>ATTRITION_FLAG</th>\n      <th>CUSTOMER_AGE</th>\n      <th>GENDER</th>\n      <th>DEPENDENT_COUNT</th>\n      <th>EDUCATION_LEVEL</th>\n      <th>MARITAL_STATUS</th>\n      <th>INCOME_CATEGORY</th>\n      <th>CARD_CATEGORY</th>\n      <th>MONTHS_ON_BOOK</th>\n      <th>...</th>\n      <th>MONTHS_INACTIVE_12_MON</th>\n      <th>CONTACTS_COUNT_12_MON</th>\n      <th>CREDIT_LIMIT</th>\n      <th>TOTAL_REVOLVING_BAL</th>\n      <th>AVG_OPEN_TO_BUY</th>\n      <th>TOTAL_AMT_CHNG_Q4_Q1</th>\n      <th>TOTAL_TRANS_AMT</th>\n      <th>TOTAL_TRANS_CT</th>\n      <th>TOTAL_CT_CHNG_Q4_Q1</th>\n      <th>AVG_UTILIZATION_RATIO</th>\n    </tr>\n  </thead>\n  <tbody>\n    <tr>\n      <th>0</th>\n      <td>768805383</td>\n      <td>Existing Customer</td>\n      <td>45</td>\n      <td>M</td>\n      <td>3</td>\n      <td>High School</td>\n      <td>Married</td>\n      <td>$60K - $80K</td>\n      <td>Blue</td>\n      <td>39</td>\n      <td>...</td>\n      <td>1</td>\n      <td>3</td>\n      <td>12691.0</td>\n      <td>777</td>\n      <td>11914.0</td>\n      <td>1.335</td>\n      <td>1144</td>\n      <td>42</td>\n      <td>1.625</td>\n      <td>0.061</td>\n    </tr>\n    <tr>\n      <th>1</th>\n      <td>818770008</td>\n      <td>Existing Customer</td>\n      <td>49</td>\n      <td>F</td>\n      <td>5</td>\n      <td>Graduate</td>\n      <td>Single</td>\n      <td>Less than $40K</td>\n      <td>Blue</td>\n      <td>44</td>\n      <td>...</td>\n      <td>1</td>\n      <td>2</td>\n      <td>8256.0</td>\n      <td>864</td>\n      <td>7392.0</td>\n      <td>1.541</td>\n      <td>1291</td>\n      <td>33</td>\n      <td>3.714</td>\n      <td>0.105</td>\n    </tr>\n    <tr>\n      <th>2</th>\n      <td>713982108</td>\n      <td>Existing Customer</td>\n      <td>51</td>\n      <td>M</td>\n      <td>3</td>\n      <td>Graduate</td>\n      <td>Married</td>\n      <td>$80K - $120K</td>\n      <td>Blue</td>\n      <td>36</td>\n      <td>...</td>\n      <td>1</td>\n      <td>0</td>\n      <td>3418.0</td>\n      <td>0</td>\n      <td>3418.0</td>\n      <td>2.594</td>\n      <td>1887</td>\n      <td>20</td>\n      <td>2.333</td>\n      <td>0.000</td>\n    </tr>\n    <tr>\n      <th>3</th>\n      <td>769911858</td>\n      <td>Existing Customer</td>\n      <td>40</td>\n      <td>F</td>\n      <td>4</td>\n      <td>High School</td>\n      <td>Unknown</td>\n      <td>Less than $40K</td>\n      <td>Blue</td>\n      <td>34</td>\n      <td>...</td>\n      <td>4</td>\n      <td>1</td>\n      <td>3313.0</td>\n      <td>2517</td>\n      <td>796.0</td>\n      <td>1.405</td>\n      <td>1171</td>\n      <td>20</td>\n      <td>2.333</td>\n      <td>0.760</td>\n    </tr>\n    <tr>\n      <th>4</th>\n      <td>709106358</td>\n      <td>Existing Customer</td>\n      <td>40</td>\n      <td>M</td>\n      <td>3</td>\n      <td>Uneducated</td>\n      <td>Married</td>\n      <td>$60K - $80K</td>\n      <td>Blue</td>\n      <td>21</td>\n      <td>...</td>\n      <td>1</td>\n      <td>0</td>\n      <td>4716.0</td>\n      <td>0</td>\n      <td>4716.0</td>\n      <td>2.175</td>\n      <td>816</td>\n      <td>28</td>\n      <td>2.500</td>\n      <td>0.000</td>\n    </tr>\n  </tbody>\n</table>\n<p>5 rows \u00d7 21 columns</p>\n</div>",
                        "text/plain": "   CLIENTNUM     ATTRITION_FLAG  CUSTOMER_AGE GENDER  DEPENDENT_COUNT  \\\n0  768805383  Existing Customer            45      M                3   \n1  818770008  Existing Customer            49      F                5   \n2  713982108  Existing Customer            51      M                3   \n3  769911858  Existing Customer            40      F                4   \n4  709106358  Existing Customer            40      M                3   \n\n  EDUCATION_LEVEL MARITAL_STATUS INCOME_CATEGORY CARD_CATEGORY  \\\n0     High School        Married     $60K - $80K          Blue   \n1        Graduate         Single  Less than $40K          Blue   \n2        Graduate        Married    $80K - $120K          Blue   \n3     High School        Unknown  Less than $40K          Blue   \n4      Uneducated        Married     $60K - $80K          Blue   \n\n   MONTHS_ON_BOOK  ...  MONTHS_INACTIVE_12_MON  CONTACTS_COUNT_12_MON  \\\n0              39  ...                       1                      3   \n1              44  ...                       1                      2   \n2              36  ...                       1                      0   \n3              34  ...                       4                      1   \n4              21  ...                       1                      0   \n\n   CREDIT_LIMIT  TOTAL_REVOLVING_BAL  AVG_OPEN_TO_BUY  TOTAL_AMT_CHNG_Q4_Q1  \\\n0       12691.0                  777          11914.0                 1.335   \n1        8256.0                  864           7392.0                 1.541   \n2        3418.0                    0           3418.0                 2.594   \n3        3313.0                 2517            796.0                 1.405   \n4        4716.0                    0           4716.0                 2.175   \n\n   TOTAL_TRANS_AMT  TOTAL_TRANS_CT  TOTAL_CT_CHNG_Q4_Q1  AVG_UTILIZATION_RATIO  \n0             1144              42                1.625                  0.061  \n1             1291              33                3.714                  0.105  \n2             1887              20                2.333                  0.000  \n3             1171              20                2.333                  0.760  \n4              816              28                2.500                  0.000  \n\n[5 rows x 21 columns]"
                    },
                    "execution_count": 10,
                    "metadata": {},
                    "output_type": "execute_result"
                }
            ],
            "source": "# The code was removed by Watson Studio for sharing."
        },
        {
            "cell_type": "markdown",
            "metadata": {},
            "source": "# 3. Prepare the data"
        },
        {
            "cell_type": "code",
            "execution_count": 11,
            "metadata": {},
            "outputs": [],
            "source": "# convert all float columns to int\ndef convert_float_to_int(df):\n    for col in df.columns:\n        if df[col].dtype == 'float64':\n            df[col] = df[col].astype('int64')\n    return df\n\ndf=convert_float_to_int(df) "
        },
        {
            "cell_type": "code",
            "execution_count": 12,
            "metadata": {},
            "outputs": [
                {
                    "data": {
                        "text/html": "<div>\n<style scoped>\n    .dataframe tbody tr th:only-of-type {\n        vertical-align: middle;\n    }\n\n    .dataframe tbody tr th {\n        vertical-align: top;\n    }\n\n    .dataframe thead th {\n        text-align: right;\n    }\n</style>\n<table border=\"1\" class=\"dataframe\">\n  <thead>\n    <tr style=\"text-align: right;\">\n      <th></th>\n      <th>CUSTOMER_AGE</th>\n      <th>DEPENDENT_COUNT</th>\n      <th>MONTHS_ON_BOOK</th>\n      <th>TOTAL_RELATIONSHIP_COUNT</th>\n      <th>MONTHS_INACTIVE_12_MON</th>\n      <th>CONTACTS_COUNT_12_MON</th>\n      <th>CREDIT_LIMIT</th>\n      <th>TOTAL_REVOLVING_BAL</th>\n      <th>AVG_OPEN_TO_BUY</th>\n      <th>TOTAL_AMT_CHNG_Q4_Q1</th>\n      <th>TOTAL_TRANS_CT</th>\n      <th>TOTAL_CT_CHNG_Q4_Q1</th>\n      <th>AVG_UTILIZATION_RATIO</th>\n    </tr>\n  </thead>\n  <tbody>\n    <tr>\n      <th>0</th>\n      <td>45</td>\n      <td>3</td>\n      <td>39</td>\n      <td>5</td>\n      <td>1</td>\n      <td>3</td>\n      <td>12691</td>\n      <td>777</td>\n      <td>11914</td>\n      <td>1</td>\n      <td>42</td>\n      <td>1</td>\n      <td>0</td>\n    </tr>\n    <tr>\n      <th>1</th>\n      <td>49</td>\n      <td>5</td>\n      <td>44</td>\n      <td>6</td>\n      <td>1</td>\n      <td>2</td>\n      <td>8256</td>\n      <td>864</td>\n      <td>7392</td>\n      <td>1</td>\n      <td>33</td>\n      <td>3</td>\n      <td>0</td>\n    </tr>\n    <tr>\n      <th>2</th>\n      <td>51</td>\n      <td>3</td>\n      <td>36</td>\n      <td>4</td>\n      <td>1</td>\n      <td>0</td>\n      <td>3418</td>\n      <td>0</td>\n      <td>3418</td>\n      <td>2</td>\n      <td>20</td>\n      <td>2</td>\n      <td>0</td>\n    </tr>\n    <tr>\n      <th>3</th>\n      <td>40</td>\n      <td>4</td>\n      <td>34</td>\n      <td>3</td>\n      <td>4</td>\n      <td>1</td>\n      <td>3313</td>\n      <td>2517</td>\n      <td>796</td>\n      <td>1</td>\n      <td>20</td>\n      <td>2</td>\n      <td>0</td>\n    </tr>\n    <tr>\n      <th>4</th>\n      <td>40</td>\n      <td>3</td>\n      <td>21</td>\n      <td>5</td>\n      <td>1</td>\n      <td>0</td>\n      <td>4716</td>\n      <td>0</td>\n      <td>4716</td>\n      <td>2</td>\n      <td>28</td>\n      <td>2</td>\n      <td>0</td>\n    </tr>\n  </tbody>\n</table>\n</div>",
                        "text/plain": "   CUSTOMER_AGE  DEPENDENT_COUNT  MONTHS_ON_BOOK  TOTAL_RELATIONSHIP_COUNT  \\\n0            45                3              39                         5   \n1            49                5              44                         6   \n2            51                3              36                         4   \n3            40                4              34                         3   \n4            40                3              21                         5   \n\n   MONTHS_INACTIVE_12_MON  CONTACTS_COUNT_12_MON  CREDIT_LIMIT  \\\n0                       1                      3         12691   \n1                       1                      2          8256   \n2                       1                      0          3418   \n3                       4                      1          3313   \n4                       1                      0          4716   \n\n   TOTAL_REVOLVING_BAL  AVG_OPEN_TO_BUY  TOTAL_AMT_CHNG_Q4_Q1  TOTAL_TRANS_CT  \\\n0                  777            11914                     1              42   \n1                  864             7392                     1              33   \n2                    0             3418                     2              20   \n3                 2517              796                     1              20   \n4                    0             4716                     2              28   \n\n   TOTAL_CT_CHNG_Q4_Q1  AVG_UTILIZATION_RATIO  \n0                    1                      0  \n1                    3                      0  \n2                    2                      0  \n3                    2                      0  \n4                    2                      0  "
                    },
                    "execution_count": 12,
                    "metadata": {},
                    "output_type": "execute_result"
                }
            ],
            "source": "# ignoring all non numeric features for now (just to keep it simple)\nnumeric_feature_names = ['CUSTOMER_AGE', 'DEPENDENT_COUNT', 'MONTHS_ON_BOOK',  'TOTAL_RELATIONSHIP_COUNT', 'MONTHS_INACTIVE_12_MON','CONTACTS_COUNT_12_MON','CREDIT_LIMIT','TOTAL_REVOLVING_BAL','AVG_OPEN_TO_BUY','TOTAL_AMT_CHNG_Q4_Q1','TOTAL_TRANS_CT','TOTAL_CT_CHNG_Q4_Q1','AVG_UTILIZATION_RATIO']\nnumeric_features = df[numeric_feature_names]\nnumeric_features.head()"
        },
        {
            "cell_type": "code",
            "execution_count": 13,
            "metadata": {},
            "outputs": [],
            "source": "train_dataset = numeric_features.sample(frac=0.8, random_state=0)\ntest_dataset = numeric_features.drop(train_dataset.index)\n\ntrain_target = train_dataset.pop('CREDIT_LIMIT')\ntest_target = test_dataset.pop('CREDIT_LIMIT')"
        },
        {
            "cell_type": "markdown",
            "metadata": {},
            "source": "# 4. Setting Up Model Monitoring\n\nthis will be the topic of a different presentation"
        },
        {
            "cell_type": "code",
            "execution_count": 15,
            "metadata": {},
            "outputs": [],
            "source": "#training_data_references = [\n#                {\n#                    \"id\": \"credit_limit_prediction\",\n#                    \"type\": \"container\",\n#                    \"connection\": {},\n#                    \"location\": {\n#                        \"path\": \"customer_churn_db2\"\n#                    },\n#                    \"schema\": {\n#                        \"id\": \"training_schema\",\n#                        \"fields\": [\n#                            {\"name\": \"I_SHOULD_WRITE_A_SCRIPT_TO_AUTOMATE_THIS\", \"nullable\": True, \"metadata\": {}, \"type\": \"string\"}\n#                        ]\n#                    }\n#                }\n#            ]"
        },
        {
            "cell_type": "code",
            "execution_count": 16,
            "metadata": {
                "scrolled": true
            },
            "outputs": [
                {
                    "name": "stdout",
                    "output_type": "stream",
                    "text": "Collecting ibm-aigov-facts-client\n  Downloading ibm_aigov_facts_client-1.0.28-py3-none-any.whl (106 kB)\n\u001b[2K     \u001b[90m\u2501\u2501\u2501\u2501\u2501\u2501\u2501\u2501\u2501\u2501\u2501\u2501\u2501\u2501\u2501\u2501\u2501\u2501\u2501\u2501\u2501\u2501\u2501\u2501\u2501\u2501\u2501\u2501\u2501\u2501\u2501\u2501\u2501\u2501\u2501\u2501\u2501\u2501\u001b[0m \u001b[32m106.7/106.7 kB\u001b[0m \u001b[31m25.0 MB/s\u001b[0m eta \u001b[36m0:00:00\u001b[0m\n\u001b[?25hRequirement already satisfied: pandas in /opt/conda/envs/Python-3.10/lib/python3.10/site-packages (from ibm-aigov-facts-client) (1.4.3)\nCollecting sqlparse>=0.3.1\n  Downloading sqlparse-0.4.3-py3-none-any.whl (42 kB)\n\u001b[2K     \u001b[90m\u2501\u2501\u2501\u2501\u2501\u2501\u2501\u2501\u2501\u2501\u2501\u2501\u2501\u2501\u2501\u2501\u2501\u2501\u2501\u2501\u2501\u2501\u2501\u2501\u2501\u2501\u2501\u2501\u2501\u2501\u2501\u2501\u2501\u2501\u2501\u2501\u2501\u2501\u2501\u2501\u001b[0m \u001b[32m42.8/42.8 kB\u001b[0m \u001b[31m14.4 MB/s\u001b[0m eta \u001b[36m0:00:00\u001b[0m\n\u001b[?25hCollecting timeout-decorator\n  Downloading timeout-decorator-0.5.0.tar.gz (4.8 kB)\n  Preparing metadata (setup.py) ... \u001b[?25ldone\n\u001b[?25hCollecting docutils<0.16,>=0.10\n  Downloading docutils-0.15.2-py3-none-any.whl (547 kB)\n\u001b[2K     \u001b[90m\u2501\u2501\u2501\u2501\u2501\u2501\u2501\u2501\u2501\u2501\u2501\u2501\u2501\u2501\u2501\u2501\u2501\u2501\u2501\u2501\u2501\u2501\u2501\u2501\u2501\u2501\u2501\u2501\u2501\u2501\u2501\u2501\u2501\u2501\u2501\u2501\u2501\u2501\u001b[0m \u001b[32m547.6/547.6 kB\u001b[0m \u001b[31m62.1 MB/s\u001b[0m eta \u001b[36m0:00:00\u001b[0m\n\u001b[?25hRequirement already satisfied: ibm-cloud-sdk-core>=3.5.2 in /opt/conda/envs/Python-3.10/lib/python3.10/site-packages (from ibm-aigov-facts-client) (3.10.1)\nRequirement already satisfied: numpy in /opt/conda/envs/Python-3.10/lib/python3.10/site-packages (from ibm-aigov-facts-client) (1.23.1)\nCollecting mlflow-skinny==1.28.0\n  Downloading mlflow_skinny-1.28.0-py3-none-any.whl (3.5 MB)\n\u001b[2K     \u001b[90m\u2501\u2501\u2501\u2501\u2501\u2501\u2501\u2501\u2501\u2501\u2501\u2501\u2501\u2501\u2501\u2501\u2501\u2501\u2501\u2501\u2501\u2501\u2501\u2501\u2501\u2501\u2501\u2501\u2501\u2501\u2501\u2501\u2501\u2501\u2501\u2501\u2501\u2501\u2501\u2501\u001b[0m \u001b[32m3.5/3.5 MB\u001b[0m \u001b[31m93.5 MB/s\u001b[0m eta \u001b[36m0:00:00\u001b[0m:00:01\u001b[0m\n\u001b[?25hRequirement already satisfied: requests<3.0,>=2.0 in /opt/conda/envs/Python-3.10/lib/python3.10/site-packages (from ibm-aigov-facts-client) (2.28.1)\nRequirement already satisfied: entrypoints<1 in /opt/conda/envs/Python-3.10/lib/python3.10/site-packages (from mlflow-skinny==1.28.0->ibm-aigov-facts-client) (0.4)\nRequirement already satisfied: pyyaml<7,>=5.1 in /opt/conda/envs/Python-3.10/lib/python3.10/site-packages/PyYAML-6.0-py3.10-linux-x86_64.egg (from mlflow-skinny==1.28.0->ibm-aigov-facts-client) (6.0)\nCollecting gitpython<4,>=2.1.0\n  Downloading GitPython-3.1.29-py3-none-any.whl (182 kB)\n\u001b[2K     \u001b[90m\u2501\u2501\u2501\u2501\u2501\u2501\u2501\u2501\u2501\u2501\u2501\u2501\u2501\u2501\u2501\u2501\u2501\u2501\u2501\u2501\u2501\u2501\u2501\u2501\u2501\u2501\u2501\u2501\u2501\u2501\u2501\u2501\u2501\u2501\u2501\u2501\u2501\u2501\u001b[0m \u001b[32m182.5/182.5 kB\u001b[0m \u001b[31m53.2 MB/s\u001b[0m eta \u001b[36m0:00:00\u001b[0m\n\u001b[?25hCollecting databricks-cli<1,>=0.8.7\n  Downloading databricks-cli-0.17.4.tar.gz (82 kB)\n\u001b[2K     \u001b[90m\u2501\u2501\u2501\u2501\u2501\u2501\u2501\u2501\u2501\u2501\u2501\u2501\u2501\u2501\u2501\u2501\u2501\u2501\u2501\u2501\u2501\u2501\u2501\u2501\u2501\u2501\u2501\u2501\u2501\u2501\u2501\u2501\u2501\u2501\u2501\u2501\u2501\u2501\u2501\u2501\u001b[0m \u001b[32m82.3/82.3 kB\u001b[0m \u001b[31m29.3 MB/s\u001b[0m eta \u001b[36m0:00:00\u001b[0m\n\u001b[?25h  Preparing metadata (setup.py) ... \u001b[?25ldone\n\u001b[?25hRequirement already satisfied: pytz<2023 in /opt/conda/envs/Python-3.10/lib/python3.10/site-packages (from mlflow-skinny==1.28.0->ibm-aigov-facts-client) (2022.1)\nRequirement already satisfied: packaging<22 in /opt/conda/envs/Python-3.10/lib/python3.10/site-packages (from mlflow-skinny==1.28.0->ibm-aigov-facts-client) (21.3)\nRequirement already satisfied: protobuf<5,>=3.12.0 in /opt/conda/envs/Python-3.10/lib/python3.10/site-packages (from mlflow-skinny==1.28.0->ibm-aigov-facts-client) (3.19.1)\nRequirement already satisfied: cloudpickle<3 in /opt/conda/envs/Python-3.10/lib/python3.10/site-packages (from mlflow-skinny==1.28.0->ibm-aigov-facts-client) (2.0.0)\nRequirement already satisfied: click<9,>=7.0 in /opt/conda/envs/Python-3.10/lib/python3.10/site-packages (from mlflow-skinny==1.28.0->ibm-aigov-facts-client) (8.0.4)\nRequirement already satisfied: importlib-metadata!=4.7.0,<5,>=3.7.0 in /opt/conda/envs/Python-3.10/lib/python3.10/site-packages (from mlflow-skinny==1.28.0->ibm-aigov-facts-client) (4.11.3)\nRequirement already satisfied: python-dateutil<3.0.0,>=2.5.3 in /opt/conda/envs/Python-3.10/lib/python3.10/site-packages (from ibm-cloud-sdk-core>=3.5.2->ibm-aigov-facts-client) (2.8.2)\nRequirement already satisfied: PyJWT<3.0.0,>=2.0.1 in /opt/conda/envs/Python-3.10/lib/python3.10/site-packages (from ibm-cloud-sdk-core>=3.5.2->ibm-aigov-facts-client) (2.4.0)\nRequirement already satisfied: urllib3<1.27,>=1.21.1 in /opt/conda/envs/Python-3.10/lib/python3.10/site-packages (from requests<3.0,>=2.0->ibm-aigov-facts-client) (1.26.11)\nRequirement already satisfied: charset-normalizer<3,>=2 in /opt/conda/envs/Python-3.10/lib/python3.10/site-packages (from requests<3.0,>=2.0->ibm-aigov-facts-client) (2.0.4)\nRequirement already satisfied: certifi>=2017.4.17 in /opt/conda/envs/Python-3.10/lib/python3.10/site-packages (from requests<3.0,>=2.0->ibm-aigov-facts-client) (2022.9.24)\nRequirement already satisfied: idna<4,>=2.5 in /opt/conda/envs/Python-3.10/lib/python3.10/site-packages (from requests<3.0,>=2.0->ibm-aigov-facts-client) (3.3)\nRequirement already satisfied: oauthlib>=3.1.0 in /opt/conda/envs/Python-3.10/lib/python3.10/site-packages (from databricks-cli<1,>=0.8.7->mlflow-skinny==1.28.0->ibm-aigov-facts-client) (3.2.1)\nRequirement already satisfied: tabulate>=0.7.7 in /opt/conda/envs/Python-3.10/lib/python3.10/site-packages (from databricks-cli<1,>=0.8.7->mlflow-skinny==1.28.0->ibm-aigov-facts-client) (0.8.10)\nRequirement already satisfied: six>=1.10.0 in /opt/conda/envs/Python-3.10/lib/python3.10/site-packages (from databricks-cli<1,>=0.8.7->mlflow-skinny==1.28.0->ibm-aigov-facts-client) (1.16.0)\nCollecting gitdb<5,>=4.0.1\n  Downloading gitdb-4.0.10-py3-none-any.whl (62 kB)\n\u001b[2K     \u001b[90m\u2501\u2501\u2501\u2501\u2501\u2501\u2501\u2501\u2501\u2501\u2501\u2501\u2501\u2501\u2501\u2501\u2501\u2501\u2501\u2501\u2501\u2501\u2501\u2501\u2501\u2501\u2501\u2501\u2501\u2501\u2501\u2501\u2501\u2501\u2501\u2501\u2501\u2501\u2501\u2501\u001b[0m \u001b[32m62.7/62.7 kB\u001b[0m \u001b[31m22.6 MB/s\u001b[0m eta \u001b[36m0:00:00\u001b[0m\n\u001b[?25hRequirement already satisfied: zipp>=0.5 in /opt/conda/envs/Python-3.10/lib/python3.10/site-packages (from importlib-metadata!=4.7.0,<5,>=3.7.0->mlflow-skinny==1.28.0->ibm-aigov-facts-client) (3.8.0)\nRequirement already satisfied: pyparsing!=3.0.5,>=2.0.2 in /opt/conda/envs/Python-3.10/lib/python3.10/site-packages (from packaging<22->mlflow-skinny==1.28.0->ibm-aigov-facts-client) (3.0.9)\nCollecting smmap<6,>=3.0.1\n  Downloading smmap-5.0.0-py3-none-any.whl (24 kB)\nBuilding wheels for collected packages: timeout-decorator, databricks-cli\n  Building wheel for timeout-decorator (setup.py) ... \u001b[?25ldone\n\u001b[?25h  Created wheel for timeout-decorator: filename=timeout_decorator-0.5.0-py3-none-any.whl size=5027 sha256=d4fb626c527503d31cccc11cc5799d4eccd12d79edc75d498224402606ca5885\n  Stored in directory: /tmp/wsuser/.cache/pip/wheels/68/2f/bc/76f1192d474666d41ae6f09813fccbd00fe3f07e8261c4cff5\n  Building wheel for databricks-cli (setup.py) ... \u001b[?25ldone\n\u001b[?25h  Created wheel for databricks-cli: filename=databricks_cli-0.17.4-py3-none-any.whl size=142889 sha256=e9fc0d2465672c525e3ffefcde0c003b390b32233b9269180e6f5b9e5d7d8095\n  Stored in directory: /tmp/wsuser/.cache/pip/wheels/41/be/06/bc72f2e4531c6276093edfb0f94e3d9742217bc760145f5714\nSuccessfully built timeout-decorator databricks-cli\nInstalling collected packages: timeout-decorator, sqlparse, smmap, docutils, gitdb, databricks-cli, gitpython, mlflow-skinny, ibm-aigov-facts-client\nSuccessfully installed databricks-cli-0.17.4 docutils-0.15.2 gitdb-4.0.10 gitpython-3.1.29 ibm-aigov-facts-client-1.0.28 mlflow-skinny-1.28.0 smmap-5.0.0 sqlparse-0.4.3 timeout-decorator-0.5.0\n"
                },
                {
                    "ename": "NameError",
                    "evalue": "name 'project' is not defined",
                    "output_type": "error",
                    "traceback": [
                        "\u001b[0;31m---------------------------------------------------------------------------\u001b[0m",
                        "\u001b[0;31mNameError\u001b[0m                                 Traceback (most recent call last)",
                        "Input \u001b[0;32mIn [16]\u001b[0m, in \u001b[0;36m<cell line: 13>\u001b[0;34m()\u001b[0m\n\u001b[1;32m     10\u001b[0m CONTAINER_TYPE\u001b[38;5;241m=\u001b[39m\u001b[38;5;124m'\u001b[39m\u001b[38;5;124mproject\u001b[39m\u001b[38;5;124m'\u001b[39m\n\u001b[1;32m     11\u001b[0m EXPERIMENT_NAME\u001b[38;5;241m=\u001b[39m\u001b[38;5;124m'\u001b[39m\u001b[38;5;124mcredit_limit_prediction\u001b[39m\u001b[38;5;124m'\u001b[39m\n\u001b[0;32m---> 13\u001b[0m PROJECT_ACCESS_TOKEN\u001b[38;5;241m=\u001b[39m\u001b[43mproject\u001b[49m\u001b[38;5;241m.\u001b[39mproject_context\u001b[38;5;241m.\u001b[39maccessToken\u001b[38;5;241m.\u001b[39mreplace(\u001b[38;5;124m'\u001b[39m\u001b[38;5;124mBearer \u001b[39m\u001b[38;5;124m'\u001b[39m,\u001b[38;5;124m'\u001b[39m\u001b[38;5;124m'\u001b[39m)\n\u001b[1;32m     15\u001b[0m facts_client \u001b[38;5;241m=\u001b[39m AIGovFactsClient(api_key\u001b[38;5;241m=\u001b[39mAPI_KEY,experiment_name\u001b[38;5;241m=\u001b[39mEXPERIMENT_NAME,container_type\u001b[38;5;241m=\u001b[39mCONTAINER_TYPE,container_id\u001b[38;5;241m=\u001b[39mCONTAINER_ID,set_as_current_experiment\u001b[38;5;241m=\u001b[39m\u001b[38;5;28;01mTrue\u001b[39;00m)\n",
                        "\u001b[0;31mNameError\u001b[0m: name 'project' is not defined"
                    ]
                }
            ],
            "source": "#try:\n#    from ibm_aigov_facts_client import AIGovFactsClient\n#except:\n#    !pip install -U ibm-aigov-facts-client\n#    from ibm_aigov_facts_client import AIGovFactsClient\n#    \n#PROJECT_UID= os.environ['PROJECT_ID']\n#CPD_URL=os.environ['RUNTIME_ENV_APSX_URL'][len('https://api.'):]\n#CONTAINER_ID=PROJECT_ID\n#CONTAINER_TYPE='project'\n#EXPERIMENT_NAME='credit_limit_prediction'\n#\n#PROJECT_ACCESS_TOKEN=project.project_context.accessToken.replace('Bearer ','')\n#\n#facts_client = AIGovFactsClient(api_key=API_KEY,experiment_name=EXPERIMENT_NAME,container_type=CONTAINER_TYPE,container_id=CONTAINER_ID,set_as_current_experiment=True)"
        },
        {
            "cell_type": "markdown",
            "metadata": {},
            "source": "# 5. Do the actual Machine Learning"
        },
        {
            "cell_type": "markdown",
            "metadata": {},
            "source": " https://www.tensorflow.org/tutorials/keras/regression"
        },
        {
            "cell_type": "code",
            "execution_count": 17,
            "metadata": {},
            "outputs": [],
            "source": "# not using a normalizer since it causes issues when saving the model https://github.com/keras-team/keras/issues/15348\ndef get_basic_model():\n  model = tf.keras.Sequential([\n    #normalizer,\n    tf.keras.layers.Dense(10, activation='relu'),\n    tf.keras.layers.Dense(10, activation='relu'),\n    tf.keras.layers.Dense(1)\n  ])\n\n  model.compile(optimizer='adam',\n                loss=tf.keras.losses.MeanSquaredError(),\n                metrics=['accuracy'])\n  return model"
        },
        {
            "cell_type": "code",
            "execution_count": 18,
            "metadata": {
                "scrolled": true
            },
            "outputs": [
                {
                    "name": "stdout",
                    "output_type": "stream",
                    "text": "Epoch 1/100\n130/130 [==============================] - 1s 2ms/step - loss: 92964024.0000 - accuracy: 0.0000e+00 - val_loss: 33674036.0000 - val_accuracy: 0.0000e+00\nEpoch 2/100\n130/130 [==============================] - 0s 2ms/step - loss: 4973484.0000 - accuracy: 0.0000e+00 - val_loss: 55500.6328 - val_accuracy: 0.0000e+00\nEpoch 3/100\n130/130 [==============================] - 0s 1ms/step - loss: 30763.7930 - accuracy: 0.0000e+00 - val_loss: 17101.7910 - val_accuracy: 0.0000e+00\nEpoch 4/100\n130/130 [==============================] - 0s 1ms/step - loss: 14018.6797 - accuracy: 0.0000e+00 - val_loss: 12437.1250 - val_accuracy: 0.0000e+00\nEpoch 5/100\n130/130 [==============================] - 0s 2ms/step - loss: 11826.6650 - accuracy: 0.0000e+00 - val_loss: 11513.8975 - val_accuracy: 0.0000e+00\nEpoch 6/100\n130/130 [==============================] - 0s 2ms/step - loss: 11040.6494 - accuracy: 0.0000e+00 - val_loss: 10800.1211 - val_accuracy: 0.0000e+00\nEpoch 7/100\n130/130 [==============================] - 0s 2ms/step - loss: 10336.0195 - accuracy: 0.0000e+00 - val_loss: 10071.0059 - val_accuracy: 0.0000e+00\nEpoch 8/100\n130/130 [==============================] - 0s 1ms/step - loss: 9639.7998 - accuracy: 0.0000e+00 - val_loss: 9368.7041 - val_accuracy: 0.0000e+00\nEpoch 9/100\n130/130 [==============================] - 0s 1ms/step - loss: 8970.7852 - accuracy: 0.0000e+00 - val_loss: 8688.4600 - val_accuracy: 0.0000e+00\nEpoch 10/100\n130/130 [==============================] - 0s 2ms/step - loss: 8316.4609 - accuracy: 0.0000e+00 - val_loss: 8069.8594 - val_accuracy: 0.0000e+00\nEpoch 11/100\n130/130 [==============================] - 0s 2ms/step - loss: 7699.2798 - accuracy: 0.0000e+00 - val_loss: 7393.5410 - val_accuracy: 0.0000e+00\nEpoch 12/100\n130/130 [==============================] - 0s 1ms/step - loss: 7075.6328 - accuracy: 0.0000e+00 - val_loss: 6779.7432 - val_accuracy: 0.0000e+00\nEpoch 13/100\n130/130 [==============================] - 0s 2ms/step - loss: 6483.7832 - accuracy: 0.0000e+00 - val_loss: 6194.5718 - val_accuracy: 0.0000e+00\nEpoch 14/100\n130/130 [==============================] - 0s 1ms/step - loss: 5912.3887 - accuracy: 0.0000e+00 - val_loss: 5597.1357 - val_accuracy: 0.0000e+00\nEpoch 15/100\n130/130 [==============================] - 0s 1ms/step - loss: 5365.6841 - accuracy: 0.0000e+00 - val_loss: 5060.5303 - val_accuracy: 0.0000e+00\nEpoch 16/100\n130/130 [==============================] - 0s 1ms/step - loss: 4849.2568 - accuracy: 0.0000e+00 - val_loss: 4556.8755 - val_accuracy: 0.0000e+00\nEpoch 17/100\n130/130 [==============================] - 0s 1ms/step - loss: 4372.3149 - accuracy: 0.0000e+00 - val_loss: 4082.6050 - val_accuracy: 0.0000e+00\nEpoch 18/100\n130/130 [==============================] - 0s 1ms/step - loss: 3926.8850 - accuracy: 0.0000e+00 - val_loss: 3668.7490 - val_accuracy: 0.0000e+00\nEpoch 19/100\n130/130 [==============================] - 0s 1ms/step - loss: 3512.2732 - accuracy: 0.0000e+00 - val_loss: 3249.2061 - val_accuracy: 0.0000e+00\nEpoch 20/100\n130/130 [==============================] - 0s 2ms/step - loss: 3136.3831 - accuracy: 0.0000e+00 - val_loss: 2893.6116 - val_accuracy: 0.0000e+00\nEpoch 21/100\n130/130 [==============================] - 0s 1ms/step - loss: 2797.1619 - accuracy: 0.0000e+00 - val_loss: 2569.0923 - val_accuracy: 0.0000e+00\nEpoch 22/100\n130/130 [==============================] - 0s 1ms/step - loss: 2485.9431 - accuracy: 0.0000e+00 - val_loss: 2298.4077 - val_accuracy: 0.0000e+00\nEpoch 23/100\n130/130 [==============================] - 0s 2ms/step - loss: 2210.6226 - accuracy: 0.0000e+00 - val_loss: 2017.8285 - val_accuracy: 0.0000e+00\nEpoch 24/100\n130/130 [==============================] - 0s 2ms/step - loss: 1966.7983 - accuracy: 0.0000e+00 - val_loss: 1788.2372 - val_accuracy: 0.0000e+00\nEpoch 25/100\n130/130 [==============================] - 0s 1ms/step - loss: 1744.1401 - accuracy: 0.0000e+00 - val_loss: 1584.7390 - val_accuracy: 0.0000e+00\nEpoch 26/100\n130/130 [==============================] - 0s 1ms/step - loss: 1550.2122 - accuracy: 0.0000e+00 - val_loss: 1402.1177 - val_accuracy: 0.0000e+00\nEpoch 27/100\n130/130 [==============================] - 0s 2ms/step - loss: 1379.3333 - accuracy: 0.0000e+00 - val_loss: 1265.0168 - val_accuracy: 0.0000e+00\nEpoch 28/100\n130/130 [==============================] - 0s 1ms/step - loss: 1227.7324 - accuracy: 0.0000e+00 - val_loss: 1106.4158 - val_accuracy: 0.0000e+00\nEpoch 29/100\n130/130 [==============================] - 0s 1ms/step - loss: 1085.6243 - accuracy: 0.0000e+00 - val_loss: 974.9391 - val_accuracy: 0.0000e+00\nEpoch 30/100\n130/130 [==============================] - 0s 1ms/step - loss: 961.5878 - accuracy: 0.0000e+00 - val_loss: 863.0750 - val_accuracy: 0.0000e+00\nEpoch 31/100\n130/130 [==============================] - 0s 1ms/step - loss: 854.4369 - accuracy: 0.0000e+00 - val_loss: 760.4046 - val_accuracy: 0.0000e+00\nEpoch 32/100\n130/130 [==============================] - 0s 2ms/step - loss: 759.6772 - accuracy: 0.0000e+00 - val_loss: 674.8943 - val_accuracy: 0.0000e+00\nEpoch 33/100\n130/130 [==============================] - 0s 2ms/step - loss: 676.3857 - accuracy: 0.0000e+00 - val_loss: 599.0675 - val_accuracy: 0.0000e+00\nEpoch 34/100\n130/130 [==============================] - 0s 1ms/step - loss: 603.5684 - accuracy: 0.0000e+00 - val_loss: 553.2085 - val_accuracy: 0.0000e+00\nEpoch 35/100\n130/130 [==============================] - 0s 1ms/step - loss: 539.8179 - accuracy: 0.0000e+00 - val_loss: 469.6546 - val_accuracy: 0.0000e+00\nEpoch 36/100\n130/130 [==============================] - 0s 1ms/step - loss: 476.7848 - accuracy: 0.0000e+00 - val_loss: 417.6802 - val_accuracy: 0.0000e+00\nEpoch 37/100\n130/130 [==============================] - 0s 1ms/step - loss: 422.8093 - accuracy: 0.0000e+00 - val_loss: 369.1158 - val_accuracy: 0.0000e+00\nEpoch 38/100\n130/130 [==============================] - 0s 2ms/step - loss: 378.2757 - accuracy: 0.0000e+00 - val_loss: 327.4276 - val_accuracy: 0.0000e+00\nEpoch 39/100\n130/130 [==============================] - 0s 1ms/step - loss: 331.2734 - accuracy: 0.0000e+00 - val_loss: 287.7440 - val_accuracy: 0.0000e+00\nEpoch 40/100\n130/130 [==============================] - 0s 2ms/step - loss: 292.7741 - accuracy: 0.0000e+00 - val_loss: 251.9261 - val_accuracy: 0.0000e+00\nEpoch 41/100\n130/130 [==============================] - 0s 2ms/step - loss: 257.9862 - accuracy: 0.0000e+00 - val_loss: 219.4737 - val_accuracy: 0.0000e+00\nEpoch 42/100\n130/130 [==============================] - 0s 1ms/step - loss: 228.3258 - accuracy: 0.0000e+00 - val_loss: 192.6373 - val_accuracy: 0.0000e+00\nEpoch 43/100\n130/130 [==============================] - 0s 1ms/step - loss: 199.6816 - accuracy: 0.0000e+00 - val_loss: 171.4510 - val_accuracy: 0.0000e+00\nEpoch 44/100\n130/130 [==============================] - 0s 1ms/step - loss: 174.2608 - accuracy: 0.0000e+00 - val_loss: 150.9453 - val_accuracy: 0.0000e+00\nEpoch 45/100\n130/130 [==============================] - 0s 2ms/step - loss: 151.7266 - accuracy: 0.0000e+00 - val_loss: 127.7465 - val_accuracy: 0.0000e+00\nEpoch 46/100\n130/130 [==============================] - 0s 1ms/step - loss: 131.9978 - accuracy: 0.0000e+00 - val_loss: 110.9588 - val_accuracy: 0.0000e+00\nEpoch 47/100\n130/130 [==============================] - 0s 2ms/step - loss: 115.1068 - accuracy: 0.0000e+00 - val_loss: 95.2390 - val_accuracy: 0.0000e+00\nEpoch 48/100\n130/130 [==============================] - 0s 2ms/step - loss: 99.7575 - accuracy: 0.0000e+00 - val_loss: 82.1931 - val_accuracy: 0.0000e+00\nEpoch 49/100\n130/130 [==============================] - 0s 1ms/step - loss: 86.7542 - accuracy: 0.0000e+00 - val_loss: 74.0554 - val_accuracy: 0.0000e+00\nEpoch 50/100\n130/130 [==============================] - 0s 1ms/step - loss: 76.2009 - accuracy: 0.0000e+00 - val_loss: 61.1904 - val_accuracy: 0.0000e+00\nEpoch 51/100\n130/130 [==============================] - 0s 1ms/step - loss: 66.8401 - accuracy: 0.0000e+00 - val_loss: 54.4287 - val_accuracy: 0.0000e+00\nEpoch 52/100\n130/130 [==============================] - 0s 1ms/step - loss: 57.3725 - accuracy: 0.0000e+00 - val_loss: 46.0494 - val_accuracy: 0.0000e+00\nEpoch 53/100\n130/130 [==============================] - 0s 1ms/step - loss: 50.4407 - accuracy: 0.0000e+00 - val_loss: 40.4711 - val_accuracy: 0.0000e+00\nEpoch 54/100\n130/130 [==============================] - 0s 2ms/step - loss: 44.0028 - accuracy: 0.0000e+00 - val_loss: 35.5542 - val_accuracy: 0.0000e+00\nEpoch 55/100\n130/130 [==============================] - 0s 2ms/step - loss: 38.8082 - accuracy: 0.0000e+00 - val_loss: 31.3461 - val_accuracy: 0.0000e+00\nEpoch 56/100\n130/130 [==============================] - 0s 1ms/step - loss: 34.2952 - accuracy: 0.0000e+00 - val_loss: 27.5997 - val_accuracy: 0.0000e+00\nEpoch 57/100\n130/130 [==============================] - 0s 1ms/step - loss: 30.6423 - accuracy: 0.0000e+00 - val_loss: 25.0773 - val_accuracy: 0.0000e+00\nEpoch 58/100\n130/130 [==============================] - 0s 1ms/step - loss: 27.2712 - accuracy: 0.0000e+00 - val_loss: 24.0133 - val_accuracy: 0.0000e+00\nEpoch 59/100\n130/130 [==============================] - 0s 2ms/step - loss: 24.8571 - accuracy: 0.0000e+00 - val_loss: 26.6843 - val_accuracy: 0.0000e+00\nEpoch 60/100\n130/130 [==============================] - 0s 1ms/step - loss: 22.9379 - accuracy: 0.0000e+00 - val_loss: 19.6446 - val_accuracy: 0.0000e+00\nEpoch 61/100\n130/130 [==============================] - 0s 1ms/step - loss: 20.2848 - accuracy: 0.0000e+00 - val_loss: 17.4127 - val_accuracy: 0.0000e+00\nEpoch 62/100\n130/130 [==============================] - 0s 2ms/step - loss: 19.6064 - accuracy: 0.0000e+00 - val_loss: 19.8656 - val_accuracy: 0.0000e+00\nEpoch 63/100\n130/130 [==============================] - 0s 1ms/step - loss: 19.1524 - accuracy: 0.0000e+00 - val_loss: 20.1491 - val_accuracy: 0.0000e+00\nEpoch 64/100\n130/130 [==============================] - 0s 1ms/step - loss: 18.0083 - accuracy: 0.0000e+00 - val_loss: 20.5098 - val_accuracy: 0.0000e+00\nEpoch 65/100\n130/130 [==============================] - 0s 2ms/step - loss: 16.1834 - accuracy: 0.0000e+00 - val_loss: 13.6981 - val_accuracy: 0.0000e+00\nEpoch 66/100\n130/130 [==============================] - 0s 2ms/step - loss: 14.1430 - accuracy: 0.0000e+00 - val_loss: 12.4001 - val_accuracy: 0.0000e+00\nEpoch 67/100\n130/130 [==============================] - 0s 2ms/step - loss: 14.5742 - accuracy: 0.0000e+00 - val_loss: 14.0784 - val_accuracy: 0.0000e+00\nEpoch 68/100\n130/130 [==============================] - 0s 1ms/step - loss: 22.6149 - accuracy: 0.0000e+00 - val_loss: 14.8031 - val_accuracy: 0.0000e+00\nEpoch 69/100\n130/130 [==============================] - 0s 2ms/step - loss: 12.3427 - accuracy: 0.0000e+00 - val_loss: 15.2978 - val_accuracy: 0.0000e+00\nEpoch 70/100\n130/130 [==============================] - 0s 2ms/step - loss: 12.3586 - accuracy: 0.0000e+00 - val_loss: 10.7766 - val_accuracy: 0.0000e+00\nEpoch 71/100\n130/130 [==============================] - 0s 1ms/step - loss: 11.7195 - accuracy: 0.0000e+00 - val_loss: 10.1182 - val_accuracy: 0.0000e+00\nEpoch 72/100\n130/130 [==============================] - 0s 2ms/step - loss: 11.3003 - accuracy: 0.0000e+00 - val_loss: 9.1232 - val_accuracy: 0.0000e+00\nEpoch 73/100\n130/130 [==============================] - 0s 2ms/step - loss: 8.9492 - accuracy: 0.0000e+00 - val_loss: 8.4436 - val_accuracy: 0.0000e+00\nEpoch 74/100\n130/130 [==============================] - 0s 2ms/step - loss: 9.4125 - accuracy: 0.0000e+00 - val_loss: 12.0233 - val_accuracy: 0.0000e+00\nEpoch 75/100\n130/130 [==============================] - 0s 2ms/step - loss: 85.5559 - accuracy: 0.0000e+00 - val_loss: 366.0995 - val_accuracy: 0.0000e+00\nEpoch 76/100\n130/130 [==============================] - 0s 1ms/step - loss: 32.3984 - accuracy: 0.0000e+00 - val_loss: 77.9249 - val_accuracy: 0.0000e+00\nEpoch 77/100\n130/130 [==============================] - 0s 2ms/step - loss: 12.9909 - accuracy: 0.0000e+00 - val_loss: 10.9150 - val_accuracy: 0.0000e+00\nEpoch 78/100\n130/130 [==============================] - 0s 2ms/step - loss: 12.3616 - accuracy: 0.0000e+00 - val_loss: 6.0452 - val_accuracy: 0.0000e+00\nEpoch 79/100\n130/130 [==============================] - 0s 2ms/step - loss: 7.0276 - accuracy: 0.0000e+00 - val_loss: 6.2801 - val_accuracy: 0.0000e+00\nEpoch 80/100\n130/130 [==============================] - 0s 2ms/step - loss: 7.4299 - accuracy: 0.0000e+00 - val_loss: 5.5391 - val_accuracy: 0.0000e+00\nEpoch 81/100\n130/130 [==============================] - 0s 2ms/step - loss: 46.5940 - accuracy: 0.0000e+00 - val_loss: 5.7497 - val_accuracy: 0.0000e+00\nEpoch 82/100\n130/130 [==============================] - 0s 1ms/step - loss: 7.1170 - accuracy: 0.0000e+00 - val_loss: 9.9846 - val_accuracy: 0.0000e+00\nEpoch 83/100\n130/130 [==============================] - 0s 2ms/step - loss: 7.9122 - accuracy: 0.0000e+00 - val_loss: 4.3870 - val_accuracy: 0.0000e+00\nEpoch 84/100\n130/130 [==============================] - 0s 1ms/step - loss: 197.8045 - accuracy: 0.0000e+00 - val_loss: 114.5410 - val_accuracy: 0.0000e+00\nEpoch 85/100\n130/130 [==============================] - 0s 1ms/step - loss: 245.7499 - accuracy: 0.0000e+00 - val_loss: 5.0677 - val_accuracy: 0.0000e+00\nEpoch 86/100\n130/130 [==============================] - 0s 2ms/step - loss: 4.4197 - accuracy: 0.0000e+00 - val_loss: 4.9900 - val_accuracy: 0.0000e+00\nEpoch 87/100\n130/130 [==============================] - 0s 2ms/step - loss: 4.6523 - accuracy: 0.0000e+00 - val_loss: 3.5819 - val_accuracy: 0.0000e+00\nEpoch 88/100\n130/130 [==============================] - 0s 2ms/step - loss: 9.7418 - accuracy: 0.0000e+00 - val_loss: 82.2536 - val_accuracy: 0.0000e+00\nEpoch 89/100\n130/130 [==============================] - 0s 2ms/step - loss: 13.3656 - accuracy: 0.0000e+00 - val_loss: 7.1228 - val_accuracy: 0.0000e+00\nEpoch 90/100\n130/130 [==============================] - 0s 2ms/step - loss: 18.0828 - accuracy: 0.0000e+00 - val_loss: 4.2307 - val_accuracy: 0.0000e+00\nEpoch 91/100\n130/130 [==============================] - 0s 2ms/step - loss: 56.5701 - accuracy: 0.0000e+00 - val_loss: 8.9390 - val_accuracy: 0.0000e+00\nEpoch 92/100\n130/130 [==============================] - 0s 2ms/step - loss: 14.0388 - accuracy: 0.0000e+00 - val_loss: 2.6209 - val_accuracy: 0.0000e+00\nEpoch 93/100\n130/130 [==============================] - 0s 2ms/step - loss: 27.6089 - accuracy: 0.0000e+00 - val_loss: 8.1157 - val_accuracy: 0.0000e+00\nEpoch 94/100\n130/130 [==============================] - 0s 1ms/step - loss: 3.8249 - accuracy: 0.0000e+00 - val_loss: 2.3605 - val_accuracy: 0.0000e+00\nEpoch 95/100\n130/130 [==============================] - 0s 2ms/step - loss: 4.8930 - accuracy: 0.0000e+00 - val_loss: 4.1164 - val_accuracy: 0.0000e+00\nEpoch 96/100\n130/130 [==============================] - 0s 2ms/step - loss: 106.7811 - accuracy: 0.0000e+00 - val_loss: 1688.8367 - val_accuracy: 0.0000e+00\nEpoch 97/100\n130/130 [==============================] - 0s 1ms/step - loss: 436.3677 - accuracy: 0.0000e+00 - val_loss: 1171.0430 - val_accuracy: 0.0000e+00\nEpoch 98/100\n130/130 [==============================] - 0s 2ms/step - loss: 154.6943 - accuracy: 0.0000e+00 - val_loss: 1.9666 - val_accuracy: 0.0000e+00\nEpoch 99/100\n130/130 [==============================] - 0s 2ms/step - loss: 1.8034 - accuracy: 0.0000e+00 - val_loss: 1.9163 - val_accuracy: 0.0000e+00\nEpoch 100/100\n130/130 [==============================] - 0s 2ms/step - loss: 1.8276 - accuracy: 0.0000e+00 - val_loss: 1.8417 - val_accuracy: 0.0000e+00\n"
                },
                {
                    "data": {
                        "text/plain": "<keras.callbacks.History at 0x7fd3abf401c0>"
                    },
                    "execution_count": 18,
                    "metadata": {},
                    "output_type": "execute_result"
                }
            ],
            "source": "model = get_basic_model()\nmodel.fit(train_dataset, train_target, epochs=100, batch_size=50, validation_split = 0.2)"
        },
        {
            "cell_type": "code",
            "execution_count": 19,
            "metadata": {},
            "outputs": [
                {
                    "data": {
                        "text/plain": "CUSTOMER_AGE                   45\nDEPENDENT_COUNT                 3\nMONTHS_ON_BOOK                 39\nTOTAL_RELATIONSHIP_COUNT        5\nMONTHS_INACTIVE_12_MON          1\nCONTACTS_COUNT_12_MON           3\nTOTAL_REVOLVING_BAL           777\nAVG_OPEN_TO_BUY             11914\nTOTAL_AMT_CHNG_Q4_Q1            1\nTOTAL_TRANS_CT                 42\nTOTAL_CT_CHNG_Q4_Q1             1\nAVG_UTILIZATION_RATIO           0\nName: 0, dtype: int64"
                    },
                    "execution_count": 19,
                    "metadata": {},
                    "output_type": "execute_result"
                }
            ],
            "source": "test_dataset.iloc[0]"
        },
        {
            "cell_type": "code",
            "execution_count": 20,
            "metadata": {},
            "outputs": [
                {
                    "name": "stdout",
                    "output_type": "stream",
                    "text": "1/1 [==============================] - 0s 67ms/step\n[[8546.592]]\n13    8547\nName: CREDIT_LIMIT, dtype: int64\n"
                }
            ],
            "source": "#TODO: make this prettier\nindex=10\nprint(model.predict(test_dataset.iloc[[1]]))\nprint(test_target.iloc[[1]])"
        },
        {
            "cell_type": "markdown",
            "metadata": {},
            "source": "# 6. Storing the model"
        },
        {
            "cell_type": "markdown",
            "metadata": {},
            "source": "WTF? https://stackoverflow.com/questions/53258236/how-to-save-keras-model-in-wml-repository-in-watson-studio\n\nDo this: \nhttps://github.com/IBM/watson-machine-learning-samples/blob/master/cpd3.5/notebooks/python_sdk/deployments/keras/Use%20Keras%20to%20recognize%20hand-written%20digits.ipynb"
        },
        {
            "cell_type": "code",
            "execution_count": 21,
            "metadata": {},
            "outputs": [],
            "source": "model_result_path = \"keras_model.h5\"\nmodel.save(model_result_path)"
        },
        {
            "cell_type": "code",
            "execution_count": 22,
            "metadata": {},
            "outputs": [
                {
                    "name": "stdout",
                    "output_type": "stream",
                    "text": "keras_model.h5\r\n"
                }
            ],
            "source": "!tar -zcvf keras_model.tgz keras_model.h5"
        },
        {
            "cell_type": "code",
            "execution_count": 23,
            "metadata": {},
            "outputs": [
                {
                    "name": "stdout",
                    "output_type": "stream",
                    "text": "total 64\r\ndrwxr-x--- 4 wsuser wscommon  4096 Dec  9 08:07 .\r\ndrwxrwx--- 1 wsuser wscommon  4096 Dec  9 08:00 ..\r\n-rw-rw---- 1 wsuser wscommon 35432 Dec  9 08:07 keras_model.h5\r\n-rw-rw---- 1 wsuser wscommon  4934 Dec  9 08:07 keras_model.tgz\r\ndrwxrwx--- 2 wsuser wscommon  4096 Dec  9 08:03 logs\r\ndrwxr-x--- 2 wsuser wscommon  4096 Dec  9 07:48 .virtual_documents\r\n"
                }
            ],
            "source": "! ls -la"
        },
        {
            "cell_type": "markdown",
            "metadata": {},
            "source": "## 6.1. upload the model"
        },
        {
            "cell_type": "code",
            "execution_count": 24,
            "metadata": {},
            "outputs": [
                {
                    "name": "stdout",
                    "output_type": "stream",
                    "text": "tensorflow                    2.9.2\r\ntensorflow-addons             0.17.0\r\ntensorflow-estimator          2.9.0\r\ntensorflow-hub                0.12.0\r\ntensorflow-io-gcs-filesystem  0.26.0\r\ntensorflow-metadata           1.8.0\r\ntensorflow-probability        0.17.0\r\ntensorflow-text               2.9.0\r\n"
                }
            ],
            "source": "! pip list | grep tensorflow # get the tensorflow version for the model metadata "
        },
        {
            "cell_type": "code",
            "execution_count": 37,
            "metadata": {},
            "outputs": [],
            "source": "sofware_spec_uid = wml_client.software_specifications.get_id_by_name(\"runtime-22.2-py3.10\")\n\nmetadata = {\n            wml_client.repository.ModelMetaNames.NAME: 'credit limit model',\n            wml_client.repository.ModelMetaNames.TYPE: 'tensorflow_2.9',\n            wml_client.repository.ModelMetaNames.SOFTWARE_SPEC_UID: sofware_spec_uid\n}\n\npublished_model = wml_client.repository.store_model(\n    model=\"keras_model.tgz\",\n    meta_props=metadata)"
        },
        {
            "cell_type": "markdown",
            "metadata": {},
            "source": "## 6.2. get the model information programatically"
        },
        {
            "cell_type": "code",
            "execution_count": 38,
            "metadata": {},
            "outputs": [
                {
                    "name": "stdout",
                    "output_type": "stream",
                    "text": "{\n  \"entity\": {\n    \"hybrid_pipeline_software_specs\": [],\n    \"software_spec\": {\n      \"id\": \"b56101f1-309d-549b-a849-eaa63f77b2fb\",\n      \"name\": \"runtime-22.2-py3.10\"\n    },\n    \"type\": \"tensorflow_2.9\"\n  },\n  \"metadata\": {\n    \"created_at\": \"2022-12-09T08:17:44.916Z\",\n    \"id\": \"f945856c-bcef-4278-8d73-34bcade7bb7e\",\n    \"modified_at\": \"2022-12-09T08:17:47.578Z\",\n    \"name\": \"credit limit model\",\n    \"owner\": \"IBMid-6650024HXN\",\n    \"resource_key\": \"14da597f-4ea7-48a7-bd83-a0434aec7b95\",\n    \"space_id\": \"d15f4a9e-e1f5-4bc2-ae89-6606bd2b62c8\"\n  },\n  \"system\": {\n    \"warnings\": []\n  }\n}\n"
                }
            ],
            "source": "import json\n\npublished_model_uid = wml_client.repository.get_model_id(published_model)\nmodel_details = wml_client.repository.get_details(published_model_uid)\nprint(json.dumps(model_details, indent=2))"
        },
        {
            "cell_type": "code",
            "execution_count": 39,
            "metadata": {},
            "outputs": [
                {
                    "name": "stdout",
                    "output_type": "stream",
                    "text": "------------------------------------  ------------------  ------------------------  --------------\nID                                    NAME                CREATED                   TYPE\nf945856c-bcef-4278-8d73-34bcade7bb7e  credit limit model  2022-12-09T08:17:44.002Z  tensorflow_2.9\nad59ee55-7103-47cd-99a1-ff5a3a6cf1c2  credit limit model  2022-12-05T12:53:02.002Z  tensorflow_2.7\n885da41b-b808-421e-9f0e-49cc0d5f6da6  credit limit model  2022-12-05T12:44:10.002Z  tensorflow_2.7\nd2569dd9-1299-4846-af65-602d78432cca  credit limit model  2022-12-05T12:37:08.002Z  tensorflow_2.7\n951eb7fb-8880-4a67-a066-63e2e26be830  credit limit model  2022-12-05T09:15:29.002Z  tensorflow_2.7\n712dca3b-ff08-4e76-b7be-5bbedcd5851b  credit limit model  2022-12-05T07:56:16.002Z  tensorflow_2.7\nea57b539-8d0c-4aed-b1e7-5402813dde05  credit limit model  2022-12-05T06:13:18.002Z  tensorflow_2.7\n------------------------------------  ------------------  ------------------------  --------------\n"
                }
            ],
            "source": "models_details = wml_client.repository.list_models()\n"
        },
        {
            "cell_type": "code",
            "execution_count": 41,
            "metadata": {},
            "outputs": [
                {
                    "name": "stdout",
                    "output_type": "stream",
                    "text": "\n\n#######################################################################################\n\nSynchronous deployment creation for uid: 'f945856c-bcef-4278-8d73-34bcade7bb7e' started\n\n#######################################################################################\n\n\ninitializing\nNote: online_url is deprecated and will be removed in a future release. Use serving_urls instead.\n..\nready\n\n\n------------------------------------------------------------------------------------------------\nSuccessfully finished deployment creation, deployment_uid='d3e78e70-b581-4f9b-86a5-4a1adb8de06c'\n------------------------------------------------------------------------------------------------\n\n\n"
                }
            ],
            "source": "\nmetadata = {\n    wml_client.deployments.ConfigurationMetaNames.NAME: \"Deployment of external Keras model\",\n    wml_client.deployments.ConfigurationMetaNames.ONLINE: {}\n}\n\ncreated_deployment = wml_client.deployments.create(published_model_uid, meta_props=metadata)"
        },
        {
            "cell_type": "code",
            "execution_count": 42,
            "metadata": {},
            "outputs": [],
            "source": "deployment_uid = wml_client.deployments.get_id(created_deployment)"
        },
        {
            "cell_type": "code",
            "execution_count": 43,
            "metadata": {},
            "outputs": [
                {
                    "name": "stdout",
                    "output_type": "stream",
                    "text": "https://us-south.ml.cloud.ibm.com/ml/v4/deployments/d3e78e70-b581-4f9b-86a5-4a1adb8de06c/predictions\n"
                }
            ],
            "source": "scoring_endpoint = wml_client.deployments.get_scoring_href(created_deployment)\nprint(scoring_endpoint)"
        },
        {
            "cell_type": "code",
            "execution_count": 44,
            "metadata": {},
            "outputs": [
                {
                    "data": {
                        "text/html": "<div>\n<style scoped>\n    .dataframe tbody tr th:only-of-type {\n        vertical-align: middle;\n    }\n\n    .dataframe tbody tr th {\n        vertical-align: top;\n    }\n\n    .dataframe thead th {\n        text-align: right;\n    }\n</style>\n<table border=\"1\" class=\"dataframe\">\n  <thead>\n    <tr style=\"text-align: right;\">\n      <th></th>\n      <th>CUSTOMER_AGE</th>\n      <th>DEPENDENT_COUNT</th>\n      <th>MONTHS_ON_BOOK</th>\n      <th>TOTAL_RELATIONSHIP_COUNT</th>\n      <th>MONTHS_INACTIVE_12_MON</th>\n      <th>CONTACTS_COUNT_12_MON</th>\n      <th>TOTAL_REVOLVING_BAL</th>\n      <th>AVG_OPEN_TO_BUY</th>\n      <th>TOTAL_AMT_CHNG_Q4_Q1</th>\n      <th>TOTAL_TRANS_CT</th>\n      <th>TOTAL_CT_CHNG_Q4_Q1</th>\n      <th>AVG_UTILIZATION_RATIO</th>\n    </tr>\n  </thead>\n  <tbody>\n    <tr>\n      <th>13</th>\n      <td>35</td>\n      <td>3</td>\n      <td>30</td>\n      <td>5</td>\n      <td>1</td>\n      <td>3</td>\n      <td>1666</td>\n      <td>6881</td>\n      <td>1</td>\n      <td>33</td>\n      <td>2</td>\n      <td>0</td>\n    </tr>\n  </tbody>\n</table>\n</div>",
                        "text/plain": "    CUSTOMER_AGE  DEPENDENT_COUNT  MONTHS_ON_BOOK  TOTAL_RELATIONSHIP_COUNT  \\\n13            35                3              30                         5   \n\n    MONTHS_INACTIVE_12_MON  CONTACTS_COUNT_12_MON  TOTAL_REVOLVING_BAL  \\\n13                       1                      3                 1666   \n\n    AVG_OPEN_TO_BUY  TOTAL_AMT_CHNG_Q4_Q1  TOTAL_TRANS_CT  \\\n13             6881                     1              33   \n\n    TOTAL_CT_CHNG_Q4_Q1  AVG_UTILIZATION_RATIO  \n13                    2                      0  "
                    },
                    "execution_count": 44,
                    "metadata": {},
                    "output_type": "execute_result"
                }
            ],
            "source": "test_dataset.iloc[[1]]"
        },
        {
            "cell_type": "code",
            "execution_count": 45,
            "metadata": {},
            "outputs": [
                {
                    "data": {
                        "text/plain": "1437.07275390625"
                    },
                    "execution_count": 45,
                    "metadata": {},
                    "output_type": "execute_result"
                }
            ],
            "source": "# TODO: make this prettier\nscoring_payload = {\"input_data\": [{\"values\": test_dataset.iloc[[2]]}]}\npredictions = wml_client.deployments.score(deployment_uid, scoring_payload)\npredictions['predictions'][0]['values'][0][0][0] #pretty weird data structure :-P "
        },
        {
            "cell_type": "code",
            "execution_count": null,
            "metadata": {},
            "outputs": [],
            "source": ""
        }
    ],
    "metadata": {
        "kernelspec": {
            "display_name": "Python 3.10",
            "language": "python",
            "name": "python3"
        },
        "language_info": {
            "codemirror_mode": {
                "name": "ipython",
                "version": 3
            },
            "file_extension": ".py",
            "mimetype": "text/x-python",
            "name": "python",
            "nbconvert_exporter": "python",
            "pygments_lexer": "ipython3",
            "version": "3.10.6"
        }
    },
    "nbformat": 4,
    "nbformat_minor": 1
}