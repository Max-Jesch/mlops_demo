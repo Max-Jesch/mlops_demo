{
    "cells": [
        {
            "cell_type": "markdown",
            "metadata": {},
            "source": " # 1. Setup Watson Machine Learning Connection"
        },
        {
            "cell_type": "code",
            "execution_count": null,
            "metadata": {},
            "outputs": [],
            "source": "PROJECT_ID = 'find me in the Watson Studio UI'\nAPI_KEY = 'Create me in the IBM Cloud UI'\nLOCATION = 'https://us-south.ml.cloud.ibm.com'"
        },
        {
            "cell_type": "code",
            "execution_count": 3,
            "metadata": {},
            "outputs": [],
            "source": "# The code was removed by Watson Studio for sharing."
        },
        {
            "cell_type": "code",
            "execution_count": 4,
            "metadata": {},
            "outputs": [
                {
                    "data": {
                        "text/plain": "'SUCCESS'"
                    },
                    "execution_count": 4,
                    "metadata": {},
                    "output_type": "execute_result"
                }
            ],
            "source": "from ibm_watson_machine_learning import APIClient\n\nwml_credentials = {\n    \"apikey\": API_KEY,\n    \"url\": LOCATION\n}\n\nwml_client = APIClient(wml_credentials)\n\nwml_client.set.default_space('d15f4a9e-e1f5-4bc2-ae89-6606bd2b62c8') \n"
        },
        {
            "cell_type": "code",
            "execution_count": null,
            "metadata": {},
            "outputs": [],
            "source": "wml_client.set.default_project(PROJECT_ID)"
        },
        {
            "cell_type": "markdown",
            "metadata": {},
            "source": "# 2. Setting up DB2 Connection"
        },
        {
            "cell_type": "code",
            "execution_count": null,
            "metadata": {},
            "outputs": [],
            "source": "import pandas as pd\nimport tensorflow as tf\nimport keras"
        },
        {
            "cell_type": "code",
            "execution_count": null,
            "metadata": {},
            "outputs": [],
            "source": "# 1. create a DB2 instance + upload your data\n# 2. Create a \"connection\" in Watson Studio through the UI\n# 3. Use the \"insert to code\" feature in this notebook"
        },
        {
            "cell_type": "code",
            "execution_count": null,
            "metadata": {},
            "outputs": [],
            "source": "# The code was removed by Watson Studio for sharing."
        },
        {
            "cell_type": "markdown",
            "metadata": {},
            "source": "# 3. Prepare the data"
        },
        {
            "cell_type": "code",
            "execution_count": null,
            "metadata": {},
            "outputs": [],
            "source": "# convert all float columns to int\ndef convert_float_to_int(df):\n    for col in df.columns:\n        if df[col].dtype == 'float64':\n            df[col] = df[col].astype('int64')\n    return df\n\ndf=convert_float_to_int(df) "
        },
        {
            "cell_type": "code",
            "execution_count": null,
            "metadata": {},
            "outputs": [],
            "source": "# ignoring all non numeric features for now (just to keep it simple)\nnumeric_feature_names = ['CUSTOMER_AGE', 'DEPENDENT_COUNT', 'MONTHS_ON_BOOK',  'TOTAL_RELATIONSHIP_COUNT', 'MONTHS_INACTIVE_12_MON','CONTACTS_COUNT_12_MON','CREDIT_LIMIT','TOTAL_REVOLVING_BAL','AVG_OPEN_TO_BUY','TOTAL_AMT_CHNG_Q4_Q1','TOTAL_TRANS_CT','TOTAL_CT_CHNG_Q4_Q1','AVG_UTILIZATION_RATIO']\nnumeric_features = df[numeric_feature_names]\nnumeric_features.head()"
        },
        {
            "cell_type": "code",
            "execution_count": null,
            "metadata": {},
            "outputs": [],
            "source": "train_dataset = numeric_features.sample(frac=0.8, random_state=0)\ntest_dataset = numeric_features.drop(train_dataset.index)\n\ntrain_target = train_dataset.pop('CREDIT_LIMIT')\ntest_target = test_dataset.pop('CREDIT_LIMIT')"
        },
        {
            "cell_type": "markdown",
            "metadata": {},
            "source": "# 4. Setting Up Model Monitoring\n\nthis will be the topic of a different presentation"
        },
        {
            "cell_type": "code",
            "execution_count": null,
            "metadata": {},
            "outputs": [],
            "source": "#training_data_references = [\n#                {\n#                    \"id\": \"credit_limit_prediction\",\n#                    \"type\": \"container\",\n#                    \"connection\": {},\n#                    \"location\": {\n#                        \"path\": \"customer_churn_db2\"\n#                    },\n#                    \"schema\": {\n#                        \"id\": \"training_schema\",\n#                        \"fields\": [\n#                            {\"name\": \"I_SHOULD_WRITE_A_SCRIPT_TO_AUTOMATE_THIS\", \"nullable\": True, \"metadata\": {}, \"type\": \"string\"}\n#                        ]\n#                    }\n#                }\n#            ]"
        },
        {
            "cell_type": "code",
            "execution_count": null,
            "metadata": {
                "scrolled": true
            },
            "outputs": [],
            "source": "#try:\n#    from ibm_aigov_facts_client import AIGovFactsClient\n#except:\n#    !pip install -U ibm-aigov-facts-client\n#    from ibm_aigov_facts_client import AIGovFactsClient\n#    \n#PROJECT_UID= os.environ['PROJECT_ID']\n#CPD_URL=os.environ['RUNTIME_ENV_APSX_URL'][len('https://api.'):]\n#CONTAINER_ID=PROJECT_ID\n#CONTAINER_TYPE='project'\n#EXPERIMENT_NAME='credit_limit_prediction'\n#\n#PROJECT_ACCESS_TOKEN=project.project_context.accessToken.replace('Bearer ','')\n#\n#facts_client = AIGovFactsClient(api_key=API_KEY,experiment_name=EXPERIMENT_NAME,container_type=CONTAINER_TYPE,container_id=CONTAINER_ID,set_as_current_experiment=True)"
        },
        {
            "cell_type": "markdown",
            "metadata": {},
            "source": "# 5. Do the actual Machine Learning"
        },
        {
            "cell_type": "markdown",
            "metadata": {},
            "source": " https://www.tensorflow.org/tutorials/keras/regression"
        },
        {
            "cell_type": "code",
            "execution_count": null,
            "metadata": {},
            "outputs": [],
            "source": "# not using a normalizer since it causes issues when saving the model https://github.com/keras-team/keras/issues/15348\ndef get_basic_model():\n  model = tf.keras.Sequential([\n    #normalizer,\n    tf.keras.layers.Dense(10, activation='relu'),\n    tf.keras.layers.Dense(10, activation='relu'),\n    tf.keras.layers.Dense(1)\n  ])\n\n  model.compile(optimizer='adam',\n                loss=tf.keras.losses.MeanSquaredError(),\n                metrics=['accuracy'])\n  return model"
        },
        {
            "cell_type": "code",
            "execution_count": null,
            "metadata": {
                "scrolled": true
            },
            "outputs": [],
            "source": "model = get_basic_model()\nmodel.fit(train_dataset, train_target, epochs=100, batch_size=50, validation_split = 0.2)"
        },
        {
            "cell_type": "code",
            "execution_count": null,
            "metadata": {},
            "outputs": [],
            "source": "test_dataset.iloc[0]"
        },
        {
            "cell_type": "code",
            "execution_count": null,
            "metadata": {},
            "outputs": [],
            "source": "import numpy as np\n# get random number\nrandom_number = np.random.randint(0, len(test_dataset))\nprint(\"model result: \", model.predict(test_dataset.iloc[[random_number]])[0][0])\nprint(\"ground truth: \", test_target.iloc[[random_number]].values[0])"
        },
        {
            "cell_type": "markdown",
            "metadata": {},
            "source": "# 6. Storing the model"
        },
        {
            "cell_type": "markdown",
            "metadata": {},
            "source": "tar the model https://stackoverflow.com/questions/53258236/how-to-save-keras-model-in-wml-repository-in-watson-studio\n\nDo this: https://github.com/IBM/watson-machine-learning-samples/blob/master/cpd3.5/notebooks/python_sdk/deployments/keras/Use%20Keras%20to%20recognize%20hand-written%20digits.ipynb"
        },
        {
            "cell_type": "code",
            "execution_count": null,
            "metadata": {},
            "outputs": [],
            "source": "model_result_path = \"keras_model.h5\"\nmodel.save(model_result_path)"
        },
        {
            "cell_type": "code",
            "execution_count": null,
            "metadata": {},
            "outputs": [],
            "source": "!tar -zcvf keras_model.tgz keras_model.h5"
        },
        {
            "cell_type": "code",
            "execution_count": null,
            "metadata": {},
            "outputs": [],
            "source": "! ls -la"
        },
        {
            "cell_type": "markdown",
            "metadata": {},
            "source": "## 6.1. upload the model"
        },
        {
            "cell_type": "code",
            "execution_count": null,
            "metadata": {},
            "outputs": [],
            "source": "! pip list | grep tensorflow # get the tensorflow version for the model metadata "
        },
        {
            "cell_type": "code",
            "execution_count": 6,
            "metadata": {},
            "outputs": [
                {
                    "name": "stderr",
                    "output_type": "stream",
                    "text": "Failure during getting trained models details. (GET https://us-south.ml.cloud.ibm.com/ml/v4/trainings/keras_model.tgz?version=2021-06-24&space_id=d15f4a9e-e1f5-4bc2-ae89-6606bd2b62c8)\nStatus code: 404, body: {\"trace\":\"e815b0a00def27aba40ae9c9f108a52f\",\"errors\":[{\"code\":\"training_job_run_not_found\",\"message\":\"Backend persistence error (404): GET request failed\",\"more_info\":\"http://watson-ml-api.mybluemix.net/\"}],\"status_code\":\"404\"}\nUnexpected type of 'model parameter', expected: model path / training_id, actual: 'keras_model.tgz'.\n"
                },
                {
                    "ename": "UnexpectedType",
                    "evalue": "Unexpected type of 'model parameter', expected: model path / training_id, actual: 'keras_model.tgz'.",
                    "output_type": "error",
                    "traceback": [
                        "\u001b[0;31m---------------------------------------------------------------------------\u001b[0m",
                        "\u001b[0;31mApiRequestFailure\u001b[0m                         Traceback (most recent call last)",
                        "File \u001b[0;32m/opt/conda/envs/Python-3.10/lib/python3.10/site-packages/ibm_watson_machine_learning/models.py:530\u001b[0m, in \u001b[0;36mModels._publish_from_training\u001b[0;34m(self, model_uid, meta_props, subtrainingId, feature_names, label_column_names, round_number)\u001b[0m\n\u001b[1;32m    529\u001b[0m \u001b[38;5;28;01mtry\u001b[39;00m:\n\u001b[0;32m--> 530\u001b[0m     details \u001b[38;5;241m=\u001b[39m \u001b[38;5;28;43mself\u001b[39;49m\u001b[38;5;241;43m.\u001b[39;49m\u001b[43m_client\u001b[49m\u001b[38;5;241;43m.\u001b[39;49m\u001b[43mtraining\u001b[49m\u001b[38;5;241;43m.\u001b[39;49m\u001b[43mget_details\u001b[49m\u001b[43m(\u001b[49m\u001b[43mmodel_uid\u001b[49m\u001b[43m,\u001b[49m\u001b[43m \u001b[49m\u001b[43m_internal\u001b[49m\u001b[38;5;241;43m=\u001b[39;49m\u001b[38;5;28;43;01mTrue\u001b[39;49;00m\u001b[43m)\u001b[49m\n\u001b[1;32m    532\u001b[0m \u001b[38;5;28;01mexcept\u001b[39;00m ApiRequestFailure \u001b[38;5;28;01mas\u001b[39;00m e:\n",
                        "File \u001b[0;32m/opt/conda/envs/Python-3.10/lib/python3.10/site-packages/ibm_watson_machine_learning/training.py:166\u001b[0m, in \u001b[0;36mTraining.get_details\u001b[0;34m(self, training_uid, limit, asynchronous, get_all, training_type, state, tag_value, training_definition_id, _internal)\u001b[0m\n\u001b[1;32m    165\u001b[0m \u001b[38;5;28;01melse\u001b[39;00m:\n\u001b[0;32m--> 166\u001b[0m     details \u001b[38;5;241m=\u001b[39m \u001b[38;5;28;43mself\u001b[39;49m\u001b[38;5;241;43m.\u001b[39;49m\u001b[43m_get_artifact_details\u001b[49m\u001b[43m(\u001b[49m\u001b[43murl\u001b[49m\u001b[43m,\u001b[49m\u001b[43m \u001b[49m\u001b[43mtraining_uid\u001b[49m\u001b[43m,\u001b[49m\u001b[43m \u001b[49m\u001b[43mlimit\u001b[49m\u001b[43m,\u001b[49m\u001b[43m \u001b[49m\u001b[38;5;124;43m'\u001b[39;49m\u001b[38;5;124;43mtrained models\u001b[39;49m\u001b[38;5;124;43m'\u001b[39;49m\u001b[43m)\u001b[49m\n\u001b[1;32m    168\u001b[0m     \u001b[38;5;28;01mif\u001b[39;00m \u001b[38;5;129;01mnot\u001b[39;00m _internal \u001b[38;5;129;01mand\u001b[39;00m details\u001b[38;5;241m.\u001b[39mget(\u001b[38;5;124m'\u001b[39m\u001b[38;5;124mentity\u001b[39m\u001b[38;5;124m'\u001b[39m, {})\u001b[38;5;241m.\u001b[39mget(\u001b[38;5;124m'\u001b[39m\u001b[38;5;124mstatus\u001b[39m\u001b[38;5;124m'\u001b[39m, {})\u001b[38;5;241m.\u001b[39mget(\u001b[38;5;124m'\u001b[39m\u001b[38;5;124mfeature_engineering_components\u001b[39m\u001b[38;5;124m'\u001b[39m, {})\u001b[38;5;241m.\u001b[39mget(\u001b[38;5;124m'\u001b[39m\u001b[38;5;124mobm\u001b[39m\u001b[38;5;124m'\u001b[39m):\n",
                        "File \u001b[0;32m/opt/conda/envs/Python-3.10/lib/python3.10/site-packages/ibm_watson_machine_learning/wml_resource.py:226\u001b[0m, in \u001b[0;36mWMLResource._get_artifact_details\u001b[0;34m(self, base_url, uid, limit, resource_name, summary, pre_defined, query_params, _async, _all)\u001b[0m\n\u001b[1;32m    220\u001b[0m response_get \u001b[38;5;241m=\u001b[39m requests\u001b[38;5;241m.\u001b[39mget(\n\u001b[1;32m    221\u001b[0m     url,\n\u001b[1;32m    222\u001b[0m     params,\n\u001b[1;32m    223\u001b[0m     headers\u001b[38;5;241m=\u001b[39m\u001b[38;5;28mself\u001b[39m\u001b[38;5;241m.\u001b[39m_client\u001b[38;5;241m.\u001b[39m_get_headers()\n\u001b[1;32m    224\u001b[0m )\n\u001b[0;32m--> 226\u001b[0m \u001b[38;5;28;01mreturn\u001b[39;00m \u001b[38;5;28;43mself\u001b[39;49m\u001b[38;5;241;43m.\u001b[39;49m\u001b[43m_handle_response\u001b[49m\u001b[43m(\u001b[49m\u001b[38;5;241;43m200\u001b[39;49m\u001b[43m,\u001b[49m\u001b[43m \u001b[49m\u001b[43mop_name\u001b[49m\u001b[43m,\u001b[49m\u001b[43m \u001b[49m\u001b[43mresponse_get\u001b[49m\u001b[43m)\u001b[49m\n",
                        "File \u001b[0;32m/opt/conda/envs/Python-3.10/lib/python3.10/site-packages/ibm_watson_machine_learning/wml_resource.py:73\u001b[0m, in \u001b[0;36mWMLResource._handle_response\u001b[0;34m(self, expected_status_code, operationName, response, json_response)\u001b[0m\n\u001b[1;32m     72\u001b[0m \u001b[38;5;28;01melse\u001b[39;00m:\n\u001b[0;32m---> 73\u001b[0m     \u001b[38;5;28;01mraise\u001b[39;00m ApiRequestFailure(\u001b[38;5;124mu\u001b[39m\u001b[38;5;124m'\u001b[39m\u001b[38;5;124mFailure during \u001b[39m\u001b[38;5;132;01m{}\u001b[39;00m\u001b[38;5;124m.\u001b[39m\u001b[38;5;124m'\u001b[39m\u001b[38;5;241m.\u001b[39mformat(operationName), response)\n",
                        "\u001b[0;31mApiRequestFailure\u001b[0m: Failure during getting trained models details. (GET https://us-south.ml.cloud.ibm.com/ml/v4/trainings/keras_model.tgz?version=2021-06-24&space_id=d15f4a9e-e1f5-4bc2-ae89-6606bd2b62c8)\nStatus code: 404, body: {\"trace\":\"e815b0a00def27aba40ae9c9f108a52f\",\"errors\":[{\"code\":\"training_job_run_not_found\",\"message\":\"Backend persistence error (404): GET request failed\",\"more_info\":\"http://watson-ml-api.mybluemix.net/\"}],\"status_code\":\"404\"}",
                        "\nDuring handling of the above exception, another exception occurred:\n",
                        "\u001b[0;31mUnexpectedType\u001b[0m                            Traceback (most recent call last)",
                        "Input \u001b[0;32mIn [6]\u001b[0m, in \u001b[0;36m<cell line: 9>\u001b[0;34m()\u001b[0m\n\u001b[1;32m      1\u001b[0m sofware_spec_uid \u001b[38;5;241m=\u001b[39m wml_client\u001b[38;5;241m.\u001b[39msoftware_specifications\u001b[38;5;241m.\u001b[39mget_id_by_name(\u001b[38;5;124m\"\u001b[39m\u001b[38;5;124mruntime-22.2-py3.10\u001b[39m\u001b[38;5;124m\"\u001b[39m)\n\u001b[1;32m      3\u001b[0m metadata \u001b[38;5;241m=\u001b[39m {\n\u001b[1;32m      4\u001b[0m             wml_client\u001b[38;5;241m.\u001b[39mrepository\u001b[38;5;241m.\u001b[39mModelMetaNames\u001b[38;5;241m.\u001b[39mNAME: \u001b[38;5;124m'\u001b[39m\u001b[38;5;124mcredit limit model\u001b[39m\u001b[38;5;124m'\u001b[39m,\n\u001b[1;32m      5\u001b[0m             wml_client\u001b[38;5;241m.\u001b[39mrepository\u001b[38;5;241m.\u001b[39mModelMetaNames\u001b[38;5;241m.\u001b[39mTYPE: \u001b[38;5;124m'\u001b[39m\u001b[38;5;124mtensorflow_2.9\u001b[39m\u001b[38;5;124m'\u001b[39m,\n\u001b[1;32m      6\u001b[0m             wml_client\u001b[38;5;241m.\u001b[39mrepository\u001b[38;5;241m.\u001b[39mModelMetaNames\u001b[38;5;241m.\u001b[39mSOFTWARE_SPEC_UID: sofware_spec_uid\n\u001b[1;32m      7\u001b[0m }\n\u001b[0;32m----> 9\u001b[0m published_model \u001b[38;5;241m=\u001b[39m \u001b[43mwml_client\u001b[49m\u001b[38;5;241;43m.\u001b[39;49m\u001b[43mrepository\u001b[49m\u001b[38;5;241;43m.\u001b[39;49m\u001b[43mstore_model\u001b[49m\u001b[43m(\u001b[49m\n\u001b[1;32m     10\u001b[0m \u001b[43m    \u001b[49m\u001b[43mmodel\u001b[49m\u001b[38;5;241;43m=\u001b[39;49m\u001b[38;5;124;43m\"\u001b[39;49m\u001b[38;5;124;43mkeras_model.tgz\u001b[39;49m\u001b[38;5;124;43m\"\u001b[39;49m\u001b[43m,\u001b[49m\n\u001b[1;32m     11\u001b[0m \u001b[43m    \u001b[49m\u001b[43mmeta_props\u001b[49m\u001b[38;5;241;43m=\u001b[39;49m\u001b[43mmetadata\u001b[49m\u001b[43m)\u001b[49m\n",
                        "File \u001b[0;32m/opt/conda/envs/Python-3.10/lib/python3.10/site-packages/ibm_watson_machine_learning/repository.py:412\u001b[0m, in \u001b[0;36mRepository.store_model\u001b[0;34m(self, model, meta_props, training_data, training_target, pipeline, feature_names, label_column_names, subtrainingId, round_number, experiment_metadata)\u001b[0m\n\u001b[1;32m    291\u001b[0m \u001b[38;5;129m@docstring_parameter\u001b[39m({\u001b[38;5;124m'\u001b[39m\u001b[38;5;124mstr_type\u001b[39m\u001b[38;5;124m'\u001b[39m: STR_TYPE_NAME})\n\u001b[1;32m    292\u001b[0m \u001b[38;5;28;01mdef\u001b[39;00m \u001b[38;5;21mstore_model\u001b[39m(\u001b[38;5;28mself\u001b[39m, model, meta_props\u001b[38;5;241m=\u001b[39m\u001b[38;5;28;01mNone\u001b[39;00m, training_data\u001b[38;5;241m=\u001b[39m\u001b[38;5;28;01mNone\u001b[39;00m, training_target\u001b[38;5;241m=\u001b[39m\u001b[38;5;28;01mNone\u001b[39;00m, pipeline\u001b[38;5;241m=\u001b[39m\u001b[38;5;28;01mNone\u001b[39;00m, feature_names\u001b[38;5;241m=\u001b[39m\u001b[38;5;28;01mNone\u001b[39;00m, label_column_names\u001b[38;5;241m=\u001b[39m\u001b[38;5;28;01mNone\u001b[39;00m,subtrainingId\u001b[38;5;241m=\u001b[39m\u001b[38;5;28;01mNone\u001b[39;00m, round_number\u001b[38;5;241m=\u001b[39m\u001b[38;5;28;01mNone\u001b[39;00m, experiment_metadata\u001b[38;5;241m=\u001b[39m\u001b[38;5;28;01mNone\u001b[39;00m):\n\u001b[1;32m    293\u001b[0m     \u001b[38;5;124;03m\"\"\"\u001b[39;00m\n\u001b[1;32m    294\u001b[0m \u001b[38;5;124;03m            Create a model.\u001b[39;00m\n\u001b[1;32m    295\u001b[0m \n\u001b[0;32m   (...)\u001b[0m\n\u001b[1;32m    409\u001b[0m \u001b[38;5;124;03m                >>> stored_model_details = client.repository.store_model(trained_model_guid, meta_props=metadata, training_data=None)\u001b[39;00m\n\u001b[1;32m    410\u001b[0m \u001b[38;5;124;03m        \"\"\"\u001b[39;00m\n\u001b[0;32m--> 412\u001b[0m     \u001b[38;5;28;01mreturn\u001b[39;00m \u001b[38;5;28;43mself\u001b[39;49m\u001b[38;5;241;43m.\u001b[39;49m\u001b[43m_client\u001b[49m\u001b[38;5;241;43m.\u001b[39;49m\u001b[43m_models\u001b[49m\u001b[38;5;241;43m.\u001b[39;49m\u001b[43mstore\u001b[49m\u001b[43m(\u001b[49m\u001b[43mmodel\u001b[49m\u001b[43m,\u001b[49m\u001b[43m \u001b[49m\u001b[43mmeta_props\u001b[49m\u001b[38;5;241;43m=\u001b[39;49m\u001b[43mmeta_props\u001b[49m\u001b[43m,\u001b[49m\u001b[43m \u001b[49m\u001b[43mtraining_data\u001b[49m\u001b[38;5;241;43m=\u001b[39;49m\u001b[43mtraining_data\u001b[49m\u001b[43m,\u001b[49m\u001b[43m \u001b[49m\u001b[43mtraining_target\u001b[49m\u001b[38;5;241;43m=\u001b[39;49m\u001b[43mtraining_target\u001b[49m\u001b[43m,\u001b[49m\u001b[43m \u001b[49m\u001b[43mpipeline\u001b[49m\u001b[38;5;241;43m=\u001b[39;49m\u001b[43mpipeline\u001b[49m\u001b[43m,\u001b[49m\u001b[43m \u001b[49m\u001b[43mfeature_names\u001b[49m\u001b[38;5;241;43m=\u001b[39;49m\u001b[43mfeature_names\u001b[49m\u001b[43m,\u001b[49m\u001b[43m \u001b[49m\u001b[43mlabel_column_names\u001b[49m\u001b[38;5;241;43m=\u001b[39;49m\u001b[43mlabel_column_names\u001b[49m\u001b[43m,\u001b[49m\u001b[43msubtrainingId\u001b[49m\u001b[38;5;241;43m=\u001b[39;49m\u001b[43msubtrainingId\u001b[49m\u001b[43m,\u001b[49m\u001b[43mround_number\u001b[49m\u001b[38;5;241;43m=\u001b[39;49m\u001b[43mround_number\u001b[49m\u001b[43m,\u001b[49m\u001b[43mexperiment_metadata\u001b[49m\u001b[38;5;241;43m=\u001b[39;49m\u001b[43mexperiment_metadata\u001b[49m\u001b[43m)\u001b[49m\n",
                        "File \u001b[0;32m/opt/conda/envs/Python-3.10/lib/python3.10/site-packages/ibm_watson_machine_learning/models.py:1648\u001b[0m, in \u001b[0;36mModels.store\u001b[0;34m(self, model, meta_props, training_data, training_target, pipeline, version, artifactid, feature_names, label_column_names, subtrainingId, round_number, experiment_metadata)\u001b[0m\n\u001b[1;32m   1643\u001b[0m         saved_model \u001b[38;5;241m=\u001b[39m \u001b[38;5;28mself\u001b[39m\u001b[38;5;241m.\u001b[39m_publish_from_file(model\u001b[38;5;241m=\u001b[39mmodel, meta_props\u001b[38;5;241m=\u001b[39mmeta_props, training_data\u001b[38;5;241m=\u001b[39mtraining_data,\n\u001b[1;32m   1644\u001b[0m                                               training_target\u001b[38;5;241m=\u001b[39mtraining_target, ver\u001b[38;5;241m=\u001b[39mversion,\n\u001b[1;32m   1645\u001b[0m                                               artifactid\u001b[38;5;241m=\u001b[39martifactid, feature_names\u001b[38;5;241m=\u001b[39mfeature_names,\n\u001b[1;32m   1646\u001b[0m                                               label_column_names\u001b[38;5;241m=\u001b[39mlabel_column_names)\n\u001b[1;32m   1647\u001b[0m     \u001b[38;5;28;01melse\u001b[39;00m:\n\u001b[0;32m-> 1648\u001b[0m          saved_model \u001b[38;5;241m=\u001b[39m \u001b[38;5;28;43mself\u001b[39;49m\u001b[38;5;241;43m.\u001b[39;49m\u001b[43m_publish_from_training\u001b[49m\u001b[43m(\u001b[49m\u001b[43mmodel_uid\u001b[49m\u001b[38;5;241;43m=\u001b[39;49m\u001b[43mmodel\u001b[49m\u001b[43m,\u001b[49m\u001b[43m \u001b[49m\u001b[43mmeta_props\u001b[49m\u001b[38;5;241;43m=\u001b[39;49m\u001b[43mmeta_props\u001b[49m\u001b[43m,\u001b[49m\n\u001b[1;32m   1649\u001b[0m \u001b[43m                                                   \u001b[49m\u001b[43msubtrainingId\u001b[49m\u001b[38;5;241;43m=\u001b[39;49m\u001b[43msubtrainingId\u001b[49m\u001b[43m,\u001b[49m\u001b[43m \u001b[49m\u001b[43mfeature_names\u001b[49m\u001b[38;5;241;43m=\u001b[39;49m\u001b[43mfeature_names\u001b[49m\u001b[43m,\u001b[49m\n\u001b[1;32m   1650\u001b[0m \u001b[43m                                                   \u001b[49m\u001b[43mlabel_column_names\u001b[49m\u001b[38;5;241;43m=\u001b[39;49m\u001b[43mlabel_column_names\u001b[49m\u001b[43m,\u001b[49m\u001b[43m \u001b[49m\u001b[43mround_number\u001b[49m\u001b[38;5;241;43m=\u001b[39;49m\u001b[43mround_number\u001b[49m\u001b[43m)\u001b[49m\n\u001b[1;32m   1651\u001b[0m \u001b[38;5;28;01mif\u001b[39;00m \u001b[38;5;124m\"\u001b[39m\u001b[38;5;124msystem\u001b[39m\u001b[38;5;124m\"\u001b[39m \u001b[38;5;129;01min\u001b[39;00m saved_model \u001b[38;5;129;01mand\u001b[39;00m \u001b[38;5;124m'\u001b[39m\u001b[38;5;124mwarnings\u001b[39m\u001b[38;5;124m'\u001b[39m \u001b[38;5;129;01min\u001b[39;00m saved_model[\u001b[38;5;124m'\u001b[39m\u001b[38;5;124msystem\u001b[39m\u001b[38;5;124m'\u001b[39m] \u001b[38;5;129;01mand\u001b[39;00m saved_model[\u001b[38;5;124m'\u001b[39m\u001b[38;5;124msystem\u001b[39m\u001b[38;5;124m'\u001b[39m][\u001b[38;5;124m'\u001b[39m\u001b[38;5;124mwarnings\u001b[39m\u001b[38;5;124m'\u001b[39m]:\n\u001b[1;32m   1652\u001b[0m     \u001b[38;5;28;01mif\u001b[39;00m saved_model[\u001b[38;5;124m'\u001b[39m\u001b[38;5;124msystem\u001b[39m\u001b[38;5;124m'\u001b[39m][\u001b[38;5;124m'\u001b[39m\u001b[38;5;124mwarnings\u001b[39m\u001b[38;5;124m'\u001b[39m] \u001b[38;5;129;01mis\u001b[39;00m \u001b[38;5;129;01mnot\u001b[39;00m \u001b[38;5;28;01mNone\u001b[39;00m:\n",
                        "File \u001b[0;32m/opt/conda/envs/Python-3.10/lib/python3.10/site-packages/ibm_watson_machine_learning/models.py:533\u001b[0m, in \u001b[0;36mModels._publish_from_training\u001b[0;34m(self, model_uid, meta_props, subtrainingId, feature_names, label_column_names, round_number)\u001b[0m\n\u001b[1;32m    530\u001b[0m     details \u001b[38;5;241m=\u001b[39m \u001b[38;5;28mself\u001b[39m\u001b[38;5;241m.\u001b[39m_client\u001b[38;5;241m.\u001b[39mtraining\u001b[38;5;241m.\u001b[39mget_details(model_uid, _internal\u001b[38;5;241m=\u001b[39m\u001b[38;5;28;01mTrue\u001b[39;00m)\n\u001b[1;32m    532\u001b[0m \u001b[38;5;28;01mexcept\u001b[39;00m ApiRequestFailure \u001b[38;5;28;01mas\u001b[39;00m e:\n\u001b[0;32m--> 533\u001b[0m     \u001b[38;5;28;01mraise\u001b[39;00m UnexpectedType(\u001b[38;5;124m'\u001b[39m\u001b[38;5;124mmodel parameter\u001b[39m\u001b[38;5;124m'\u001b[39m, \u001b[38;5;124m'\u001b[39m\u001b[38;5;124mmodel path / training_id\u001b[39m\u001b[38;5;124m'\u001b[39m, model_uid)\n\u001b[1;32m    534\u001b[0m model_type \u001b[38;5;241m=\u001b[39m \u001b[38;5;124m\"\u001b[39m\u001b[38;5;124m\"\u001b[39m\n\u001b[1;32m    536\u001b[0m \u001b[38;5;66;03m##Check if the training is created from pipeline or experiment\u001b[39;00m\n",
                        "\u001b[0;31mUnexpectedType\u001b[0m: Unexpected type of 'model parameter', expected: model path / training_id, actual: 'keras_model.tgz'."
                    ]
                }
            ],
            "source": "sofware_spec_uid = wml_client.software_specifications.get_id_by_name(\"runtime-22.2-py3.10\")\n\nmetadata = {\n            wml_client.repository.ModelMetaNames.NAME: 'credit limit model',\n            wml_client.repository.ModelMetaNames.TYPE: 'tensorflow_2.9',\n            wml_client.repository.ModelMetaNames.SOFTWARE_SPEC_UID: sofware_spec_uid\n}\n\npublished_model = wml_client.repository.store_model(\n    model=\"keras_model.tgz\",\n    meta_props=metadata)"
        },
        {
            "cell_type": "markdown",
            "metadata": {},
            "source": "## 6.2. get the model information programatically"
        },
        {
            "cell_type": "code",
            "execution_count": null,
            "metadata": {},
            "outputs": [],
            "source": "import json\n\npublished_model_uid = wml_client.repository.get_model_id(published_model)\nmodel_details = wml_client.repository.get_details(published_model_uid)\nprint(json.dumps(model_details, indent=2))"
        },
        {
            "cell_type": "code",
            "execution_count": null,
            "metadata": {},
            "outputs": [],
            "source": "models_details = wml_client.repository.list_models()"
        },
        {
            "cell_type": "code",
            "execution_count": null,
            "metadata": {},
            "outputs": [],
            "source": "\nmetadata = {\n    wml_client.deployments.ConfigurationMetaNames.NAME: \"Deployment of external Keras model\",\n    wml_client.deployments.ConfigurationMetaNames.ONLINE: {}\n}\n\ncreated_deployment = wml_client.deployments.create(published_model_uid, meta_props=metadata)"
        },
        {
            "cell_type": "code",
            "execution_count": null,
            "metadata": {},
            "outputs": [],
            "source": "deployment_uid = wml_client.deployments.get_id(created_deployment)"
        },
        {
            "cell_type": "code",
            "execution_count": null,
            "metadata": {},
            "outputs": [],
            "source": "scoring_endpoint = wml_client.deployments.get_scoring_href(created_deployment)\nprint(scoring_endpoint)"
        },
        {
            "cell_type": "code",
            "execution_count": null,
            "metadata": {},
            "outputs": [],
            "source": "test_dataset.iloc[[1]]"
        },
        {
            "cell_type": "code",
            "execution_count": null,
            "metadata": {},
            "outputs": [],
            "source": "# TODO: make this prettier\nscoring_payload = {\"input_data\": [{\"values\": test_dataset.iloc[[2]]}]}\npredictions = wml_client.deployments.score(deployment_uid, scoring_payload)\npredictions['predictions'][0]['values'][0][0][0] #pretty weird data structure :-P "
        },
        {
            "cell_type": "code",
            "execution_count": null,
            "metadata": {},
            "outputs": [],
            "source": ""
        }
    ],
    "metadata": {
        "kernelspec": {
            "display_name": "Python 3.10",
            "language": "python",
            "name": "python3"
        },
        "language_info": {
            "codemirror_mode": {
                "name": "ipython",
                "version": 3
            },
            "file_extension": ".py",
            "mimetype": "text/x-python",
            "name": "python",
            "nbconvert_exporter": "python",
            "pygments_lexer": "ipython3",
            "version": "3.10.6"
        }
    },
    "nbformat": 4,
    "nbformat_minor": 1
}