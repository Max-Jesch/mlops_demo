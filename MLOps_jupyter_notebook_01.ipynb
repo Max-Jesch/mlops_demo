{
    "cells": [
        {
            "cell_type": "markdown",
            "metadata": {},
            "source": " # 1. Setup Watson Machine Learning Connection"
        },
        {
            "cell_type": "code",
            "execution_count": null,
            "metadata": {},
            "outputs": [],
            "source": "PROJECT_ID = 'find me in the Watson Studio UI'\nAPI_KEY = 'Create me in the IBM Cloud UI'\nLOCATION = 'https://us-south.ml.cloud.ibm.com'"
        },
        {
            "cell_type": "code",
            "execution_count": null,
            "metadata": {},
            "outputs": [],
            "source": "# The code was removed by Watson Studio for sharing."
        },
        {
            "cell_type": "code",
            "execution_count": null,
            "metadata": {},
            "outputs": [],
            "source": "from ibm_watson_machine_learning import APIClient\n\nwml_credentials = {\n    \"apikey\": API_KEY,\n    \"url\": LOCATION\n}\n\nwml_client = APIClient(wml_credentials)"
        },
        {
            "cell_type": "code",
            "execution_count": null,
            "metadata": {},
            "outputs": [],
            "source": "wml_client.set.default_space('find me in Watson Machine Learning UI') \nwml_client.set.default_project(PROJECT_ID)"
        },
        {
            "cell_type": "markdown",
            "metadata": {},
            "source": "# 2. Setting up DB2 Connection"
        },
        {
            "cell_type": "code",
            "execution_count": null,
            "metadata": {},
            "outputs": [],
            "source": "import pandas as pd\nimport tensorflow as tf\nimport keras"
        },
        {
            "cell_type": "code",
            "execution_count": null,
            "metadata": {},
            "outputs": [],
            "source": "# 1. create a DB2 instance + upload your data\n# 2. Create a \"connection\" in Watson Studio through the UI\n# 3. Use the \"insert to code\" feature in this notebook"
        },
        {
            "cell_type": "code",
            "execution_count": null,
            "metadata": {},
            "outputs": [],
            "source": "# The code was removed by Watson Studio for sharing."
        },
        {
            "cell_type": "markdown",
            "metadata": {},
            "source": "# 3. Prepare the data"
        },
        {
            "cell_type": "code",
            "execution_count": null,
            "metadata": {},
            "outputs": [],
            "source": "# convert all float columns to int\ndef convert_float_to_int(df):\n    for col in df.columns:\n        if df[col].dtype == 'float64':\n            df[col] = df[col].astype('int64')\n    return df\n\ndf=convert_float_to_int(df) "
        },
        {
            "cell_type": "code",
            "execution_count": null,
            "metadata": {},
            "outputs": [],
            "source": "# ignoring all non numeric features for now (just to keep it simple)\nnumeric_feature_names = ['CUSTOMER_AGE', 'DEPENDENT_COUNT', 'MONTHS_ON_BOOK',  'TOTAL_RELATIONSHIP_COUNT', 'MONTHS_INACTIVE_12_MON','CONTACTS_COUNT_12_MON','CREDIT_LIMIT','TOTAL_REVOLVING_BAL','AVG_OPEN_TO_BUY','TOTAL_AMT_CHNG_Q4_Q1','TOTAL_TRANS_CT','TOTAL_CT_CHNG_Q4_Q1','AVG_UTILIZATION_RATIO']\nnumeric_features = df[numeric_feature_names]\nnumeric_features.head()"
        },
        {
            "cell_type": "code",
            "execution_count": null,
            "metadata": {},
            "outputs": [],
            "source": "train_dataset = numeric_features.sample(frac=0.8, random_state=0)\ntest_dataset = numeric_features.drop(train_dataset.index)\n\ntrain_target = train_dataset.pop('CREDIT_LIMIT')\ntest_target = test_dataset.pop('CREDIT_LIMIT')"
        },
        {
            "cell_type": "markdown",
            "metadata": {},
            "source": "# 4. Do the actual Machine Learning"
        },
        {
            "cell_type": "markdown",
            "metadata": {},
            "source": " https://www.tensorflow.org/tutorials/keras/regression"
        },
        {
            "cell_type": "code",
            "execution_count": null,
            "metadata": {},
            "outputs": [],
            "source": "# not using a normalizer since it causes issues when saving the model https://github.com/keras-team/keras/issues/15348\ndef get_basic_model():\n  model = tf.keras.Sequential([\n    #normalizer,\n    tf.keras.layers.Dense(10, activation='relu'),\n    tf.keras.layers.Dense(10, activation='relu'),\n    tf.keras.layers.Dense(1)\n  ])\n\n  model.compile(optimizer='adam',\n                loss=tf.keras.losses.MeanSquaredError(),\n                metrics=['accuracy'])\n  return model"
        },
        {
            "cell_type": "code",
            "execution_count": null,
            "metadata": {
                "scrolled": true
            },
            "outputs": [],
            "source": "model = get_basic_model()\nmodel.fit(train_dataset, train_target, epochs=100, batch_size=50, validation_split = 0.2)"
        },
        {
            "cell_type": "code",
            "execution_count": null,
            "metadata": {},
            "outputs": [],
            "source": "test_dataset.iloc[0]"
        },
        {
            "cell_type": "code",
            "execution_count": null,
            "metadata": {},
            "outputs": [],
            "source": "import numpy as np\n# get random number\nrandom_number = np.random.randint(0, len(test_dataset))\nprint(\"model result: \", model.predict(test_dataset.iloc[[random_number]])[0][0])\nprint(\"ground truth: \", test_target.iloc[[random_number]].values[0])"
        },
        {
            "cell_type": "markdown",
            "metadata": {},
            "source": "# 5. Storing the model"
        },
        {
            "cell_type": "markdown",
            "metadata": {},
            "source": "tar the model https://stackoverflow.com/questions/53258236/how-to-save-keras-model-in-wml-repository-in-watson-studio\n\nDo this: https://github.com/IBM/watson-machine-learning-samples/blob/master/cpd3.5/notebooks/python_sdk/deployments/keras/Use%20Keras%20to%20recognize%20hand-written%20digits.ipynb"
        },
        {
            "cell_type": "code",
            "execution_count": null,
            "metadata": {},
            "outputs": [],
            "source": "model_result_path = \"keras_model.h5\"\nmodel.save(model_result_path)"
        },
        {
            "cell_type": "code",
            "execution_count": null,
            "metadata": {},
            "outputs": [],
            "source": "!tar -zcvf keras_model.tgz keras_model.h5"
        },
        {
            "cell_type": "code",
            "execution_count": null,
            "metadata": {},
            "outputs": [],
            "source": "! ls -la"
        },
        {
            "cell_type": "markdown",
            "metadata": {},
            "source": "## 5.1. upload the model"
        },
        {
            "cell_type": "code",
            "execution_count": null,
            "metadata": {},
            "outputs": [],
            "source": "# get the tensorflow version so you can set it in the meta data\n! pip list | grep tensorflow # get the tensorflow version for the model metadata "
        },
        {
            "cell_type": "code",
            "execution_count": null,
            "metadata": {
                "scrolled": true
            },
            "outputs": [],
            "source": "sofware_spec_uid = wml_client.software_specifications.get_id_by_name(\"runtime-22.2-py3.10\")\n\nmetadata = {\n            wml_client.repository.ModelMetaNames.NAME: 'credit limit model',\n            wml_client.repository.ModelMetaNames.TYPE: 'tensorflow_2.9',\n            wml_client.repository.ModelMetaNames.SOFTWARE_SPEC_UID: sofware_spec_uid\n}\n\npublished_model = wml_client.repository.store_model(\n    model=\"keras_model.tgz\",\n    meta_props=metadata)"
        },
        {
            "cell_type": "markdown",
            "metadata": {},
            "source": "## 5.2. get the model information programatically"
        },
        {
            "cell_type": "code",
            "execution_count": null,
            "metadata": {},
            "outputs": [],
            "source": "import json\n\npublished_model_uid = wml_client.repository.get_model_id(published_model)\nmodel_details = wml_client.repository.get_details(published_model_uid)\nprint(json.dumps(model_details, indent=2))"
        },
        {
            "cell_type": "code",
            "execution_count": null,
            "metadata": {},
            "outputs": [],
            "source": "models_details = wml_client.repository.list_models()"
        },
        {
            "cell_type": "code",
            "execution_count": null,
            "metadata": {},
            "outputs": [],
            "source": "metadata = {\n    wml_client.deployments.ConfigurationMetaNames.NAME: \"Deployment of external Keras model\",\n    wml_client.deployments.ConfigurationMetaNames.ONLINE: {}\n}\n\ncreated_deployment = wml_client.deployments.create(published_model_uid, meta_props=metadata)"
        },
        {
            "cell_type": "markdown",
            "metadata": {},
            "source": "## 5.3 test the deployed model"
        },
        {
            "cell_type": "code",
            "execution_count": null,
            "metadata": {},
            "outputs": [],
            "source": "deployment_uid = wml_client.deployments.get_id(created_deployment)\nscoring_endpoint = wml_client.deployments.get_scoring_href(created_deployment)\nprint(scoring_endpoint)"
        },
        {
            "cell_type": "code",
            "execution_count": null,
            "metadata": {},
            "outputs": [],
            "source": "test_dataset.iloc[[2]]"
        },
        {
            "cell_type": "code",
            "execution_count": null,
            "metadata": {
                "scrolled": true
            },
            "outputs": [],
            "source": "scoring_payload = {\"input_data\": [{\"values\": test_dataset.iloc[[2]]}]}\npredictions = wml_client.deployments.score(deployment_uid, scoring_payload)\n \nprint(\"model result: \", predictions['predictions'][0]['values'][0][0][0])\nprint(\"ground truth: \", test_target.iloc[[2]].values[0])"
        }
    ],
    "metadata": {
        "kernelspec": {
            "display_name": "Python 3.10",
            "language": "python",
            "name": "python3"
        },
        "language_info": {
            "codemirror_mode": {
                "name": "ipython",
                "version": 3
            },
            "file_extension": ".py",
            "mimetype": "text/x-python",
            "name": "python",
            "nbconvert_exporter": "python",
            "pygments_lexer": "ipython3",
            "version": "3.10.6"
        }
    },
    "nbformat": 4,
    "nbformat_minor": 1
}